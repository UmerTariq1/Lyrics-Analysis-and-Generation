{
 "cells": [
  {
   "attachments": {},
   "cell_type": "markdown",
   "metadata": {},
   "source": [
    "# Todo Plots:\n",
    "\n",
    "\n",
    "\n",
    "# Done plots:\n",
    "Number of songs per year\n"
   ]
  },
  {
   "cell_type": "code",
   "execution_count": 1,
   "metadata": {},
   "outputs": [],
   "source": [
    "import pandas as pd\n",
    "import plotly.express as px\n",
    "import spacy, tqdm\n",
    "from nltk.corpus import stopwords\n",
    "import re\n",
    "from collections import Counter\n",
    "from tqdm.notebook import tqdm"
   ]
  },
  {
   "cell_type": "code",
   "execution_count": 2,
   "metadata": {},
   "outputs": [
    {
     "data": {
      "text/plain": [
       "(128997, 19)"
      ]
     },
     "execution_count": 2,
     "metadata": {},
     "output_type": "execute_result"
    }
   ],
   "source": [
    "# Read the data\n",
    "FILEPATH = \"data/data_clean_en_5.csv\"\n",
    "data = pd.read_csv(FILEPATH)\n",
    "data.shape"
   ]
  },
  {
   "cell_type": "code",
   "execution_count": 3,
   "metadata": {},
   "outputs": [
    {
     "data": {
      "text/plain": [
       "Index(['title', 'tag', 'artist', 'year', 'views', 'features', 'lyrics', 'id',\n",
       "       'language', 'yearx', 'lyrics_clean', 'lyrics_clean_with_newline',\n",
       "       'pos_tags', 'noun', 'verb', 'adverb', 'pnoun', 'adjective', 'rest'],\n",
       "      dtype='object')"
      ]
     },
     "execution_count": 3,
     "metadata": {},
     "output_type": "execute_result"
    }
   ],
   "source": [
    "#create a deep copy of the dataframe so we dont mess up the original\n",
    "df = data.copy()\n",
    "df.columns"
   ]
  },
  {
   "cell_type": "code",
   "execution_count": 4,
   "metadata": {},
   "outputs": [
    {
     "data": {
      "text/html": [
       "<div>\n",
       "<style scoped>\n",
       "    .dataframe tbody tr th:only-of-type {\n",
       "        vertical-align: middle;\n",
       "    }\n",
       "\n",
       "    .dataframe tbody tr th {\n",
       "        vertical-align: top;\n",
       "    }\n",
       "\n",
       "    .dataframe thead th {\n",
       "        text-align: right;\n",
       "    }\n",
       "</style>\n",
       "<table border=\"1\" class=\"dataframe\">\n",
       "  <thead>\n",
       "    <tr style=\"text-align: right;\">\n",
       "      <th></th>\n",
       "      <th>title</th>\n",
       "      <th>tag</th>\n",
       "      <th>artist</th>\n",
       "      <th>year</th>\n",
       "      <th>views</th>\n",
       "      <th>features</th>\n",
       "      <th>lyrics</th>\n",
       "      <th>id</th>\n",
       "      <th>language</th>\n",
       "      <th>yearx</th>\n",
       "      <th>lyrics_clean</th>\n",
       "      <th>lyrics_clean_with_newline</th>\n",
       "      <th>pos_tags</th>\n",
       "      <th>noun</th>\n",
       "      <th>verb</th>\n",
       "      <th>adverb</th>\n",
       "      <th>pnoun</th>\n",
       "      <th>adjective</th>\n",
       "      <th>rest</th>\n",
       "    </tr>\n",
       "  </thead>\n",
       "  <tbody>\n",
       "    <tr>\n",
       "      <th>0</th>\n",
       "      <td>Killa Cam</td>\n",
       "      <td>rap</td>\n",
       "      <td>Cam'ron</td>\n",
       "      <td>2004</td>\n",
       "      <td>173166</td>\n",
       "      <td>{\"Cam\\\\'ron\",\"Opera Steve\"}</td>\n",
       "      <td>[Chorus: Opera Steve &amp; Cam'ron]\\nKilla Cam, Ki...</td>\n",
       "      <td>1</td>\n",
       "      <td>en</td>\n",
       "      <td>2004</td>\n",
       "      <td>Killa Cam, Killa Cam, Cam Killa Cam, Killa Ca...</td>\n",
       "      <td>Killa Cam, Killa Cam, Cam \\n Killa Cam, Killa ...</td>\n",
       "      <td>Killa_$_PROPN Cam_$_PROPN Killa_$_PROPN Cam_$_...</td>\n",
       "      <td>shit world shit goons tune bitches hooligan la...</td>\n",
       "      <td>loaded bat bout hit make clap spar stay want w...</td>\n",
       "      <td>Still Now neuter unhappy ChromeI Just usually Now</td>\n",
       "      <td>Killa Cam Killa Cam Cam Killa Cam Killa Cam Ki...</td>\n",
       "      <td>second realest new panpan Canary dead scrappy ...</td>\n",
       "      <td>I I We With I What up She like Damn since My m...</td>\n",
       "    </tr>\n",
       "  </tbody>\n",
       "</table>\n",
       "</div>"
      ],
      "text/plain": [
       "       title  tag   artist  year   views                     features  \\\n",
       "0  Killa Cam  rap  Cam'ron  2004  173166  {\"Cam\\\\'ron\",\"Opera Steve\"}   \n",
       "\n",
       "                                              lyrics  id language  yearx  \\\n",
       "0  [Chorus: Opera Steve & Cam'ron]\\nKilla Cam, Ki...   1       en   2004   \n",
       "\n",
       "                                        lyrics_clean  \\\n",
       "0   Killa Cam, Killa Cam, Cam Killa Cam, Killa Ca...   \n",
       "\n",
       "                           lyrics_clean_with_newline  \\\n",
       "0  Killa Cam, Killa Cam, Cam \\n Killa Cam, Killa ...   \n",
       "\n",
       "                                            pos_tags  \\\n",
       "0  Killa_$_PROPN Cam_$_PROPN Killa_$_PROPN Cam_$_...   \n",
       "\n",
       "                                                noun  \\\n",
       "0  shit world shit goons tune bitches hooligan la...   \n",
       "\n",
       "                                                verb  \\\n",
       "0  loaded bat bout hit make clap spar stay want w...   \n",
       "\n",
       "                                              adverb  \\\n",
       "0  Still Now neuter unhappy ChromeI Just usually Now   \n",
       "\n",
       "                                               pnoun  \\\n",
       "0  Killa Cam Killa Cam Cam Killa Cam Killa Cam Ki...   \n",
       "\n",
       "                                           adjective  \\\n",
       "0  second realest new panpan Canary dead scrappy ...   \n",
       "\n",
       "                                                rest  \n",
       "0  I I We With I What up She like Damn since My m...  "
      ]
     },
     "execution_count": 4,
     "metadata": {},
     "output_type": "execute_result"
    }
   ],
   "source": [
    "df.head(1)"
   ]
  },
  {
   "cell_type": "code",
   "execution_count": 5,
   "metadata": {},
   "outputs": [
    {
     "data": {
      "application/vnd.jupyter.widget-view+json": {
       "model_id": "9c24e286681141888670816677bc7f9a",
       "version_major": 2,
       "version_minor": 0
      },
      "text/plain": [
       "  0%|          | 0/128997 [00:00<?, ?it/s]"
      ]
     },
     "metadata": {},
     "output_type": "display_data"
    }
   ],
   "source": [
    "# get the most common words in each columns : noun , verb , adverb , pnoun , adjective\n",
    "# use counter \n",
    "nouns_collection = Counter()\n",
    "verbs_collection = Counter()\n",
    "adverbs_collection = Counter()\n",
    "pnouns_collection = Counter()\n",
    "adjectives_collection = Counter()\n",
    "\n",
    "# Iterate through each row in the DataFrame\n",
    "for index, row in tqdm(df.iterrows(), total=len(df)):\n",
    "    # Split words in each column and update respective Counter\n",
    "    if not pd.isna(row['noun']):\n",
    "        nouns_collection.update(row['noun'].split())\n",
    "    if not pd.isna(row['verb']):\n",
    "        verbs_collection.update(row['verb'].split())\n",
    "    if not pd.isna(row['adverb']):\n",
    "        adverbs_collection.update(row['adverb'].split())\n",
    "    if not pd.isna(row['pnoun']):\n",
    "        pnouns_collection.update(row['pnoun'].split())\n",
    "    if not pd.isna(row['adjective']):\n",
    "        adjectives_collection.update(row['adjective'].split())\n"
   ]
  },
  {
   "cell_type": "code",
   "execution_count": 6,
   "metadata": {},
   "outputs": [],
   "source": [
    "most_common_nouns = nouns_collection.most_common(50)\n",
    "most_common_verbs = verbs_collection.most_common(50)\n",
    "most_common_adverbs = adverbs_collection.most_common(50)\n",
    "most_common_pnouns = pnouns_collection.most_common(50)\n",
    "most_common_adjectives = adjectives_collection.most_common(50)\n",
    "\n",
    "# get most_common_nouns as list\n",
    "# most_common_pnouns_list = []\n",
    "# for i in most_common_pnouns:\n",
    "#     most_common_pnouns_list.append(i[0])\n",
    "\n",
    "most_common_pnouns_list = ['nigga', 'niggas', 'God', 'Baby', 'Bitch', 'Lord', 'Niggas', 'Nigga', 'Girl', 'Man', 'Ai', 'Love', 'Jesus', 'fuckin', 'Young', 'Fuck', 'bang', 'Gucci', 'King', 'Gang', 'Glock', 'G', 'Time', 'Christmas']"
   ]
  },
  {
   "cell_type": "code",
   "execution_count": 7,
   "metadata": {},
   "outputs": [],
   "source": [
    "# filter the data for yearx for 1975 to 2020\n",
    "df = df[df['year'] >= 1975]\n",
    "df = df[df['year'] <= 2020]\n",
    "\n",
    "# get the mo"
   ]
  },
  {
   "cell_type": "code",
   "execution_count": null,
   "metadata": {},
   "outputs": [],
   "source": [
    "# for each year (using column yearx), count the number of time each most coomon pnoun (most_common_pnouns_list) has appeared in column \"pnoun\"\n",
    "\n",
    "def get_count_for_term_for_year(word, year, df):\n",
    "    '''\n",
    "    Given the dataframe, use the column yearx to filter the year and get the count for how many times did the word appear\n",
    "    @args:\n",
    "        word : string \n",
    "        year : \n",
    "        \n",
    "    '''\n",
    "\n",
    "\n"
   ]
  },
  {
   "cell_type": "code",
   "execution_count": 1,
   "metadata": {},
   "outputs": [
    {
     "ename": "NameError",
     "evalue": "name 'df' is not defined",
     "output_type": "error",
     "traceback": [
      "\u001b[0;31m---------------------------------------------------------------------------\u001b[0m",
      "\u001b[0;31mNameError\u001b[0m                                 Traceback (most recent call last)",
      "\u001b[0;32m/var/folders/y6/6388w6n14299r79qbwwnkhsm0000gn/T/ipykernel_2013/964094849.py\u001b[0m in \u001b[0;36m<module>\u001b[0;34m\u001b[0m\n\u001b[0;32m----> 1\u001b[0;31m \u001b[0mdf\u001b[0m\u001b[0;34m.\u001b[0m\u001b[0mhead\u001b[0m\u001b[0;34m(\u001b[0m\u001b[0;34m)\u001b[0m\u001b[0;34m\u001b[0m\u001b[0;34m\u001b[0m\u001b[0m\n\u001b[0m",
      "\u001b[0;31mNameError\u001b[0m: name 'df' is not defined"
     ]
    }
   ],
   "source": [
    "df.head()"
   ]
  },
  {
   "cell_type": "code",
   "execution_count": null,
   "metadata": {},
   "outputs": [],
   "source": []
  }
 ],
 "metadata": {
  "kernelspec": {
   "display_name": "base",
   "language": "python",
   "name": "python3"
  },
  "language_info": {
   "codemirror_mode": {
    "name": "ipython",
    "version": 3
   },
   "file_extension": ".py",
   "mimetype": "text/x-python",
   "name": "python",
   "nbconvert_exporter": "python",
   "pygments_lexer": "ipython3",
   "version": "3.9.7"
  },
  "orig_nbformat": 4
 },
 "nbformat": 4,
 "nbformat_minor": 2
}
