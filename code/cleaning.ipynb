{
 "cells": [
  {
   "cell_type": "code",
   "execution_count": null,
   "metadata": {},
   "outputs": [],
   "source": [
    "# !pip install -U spacy\n",
    "!python -m spacy download en_core_web_md"
   ]
  },
  {
   "cell_type": "code",
   "execution_count": 28,
   "metadata": {},
   "outputs": [],
   "source": [
    "import spacy\n",
    "from spacy.lang.en.stop_words import STOP_WORDS\n"
   ]
  },
  {
   "cell_type": "code",
   "execution_count": 5,
   "metadata": {},
   "outputs": [],
   "source": [
    "import pandas as pd\n",
    "import re\n",
    "import numpy as np\n",
    "import matplotlib.pyplot as plt\n",
    "\n",
    "DATA_PATH = 'data/data_clean_en_2.csv'"
   ]
  },
  {
   "cell_type": "code",
   "execution_count": 6,
   "metadata": {},
   "outputs": [],
   "source": [
    "df = pd.read_csv(DATA_PATH)\n",
    "df = df[df['language'] != 'other']\n"
   ]
  },
  {
   "cell_type": "code",
   "execution_count": 7,
   "metadata": {},
   "outputs": [],
   "source": [
    "# remove the rows where lyrics_clean is empty or nan\n",
    "df = df[df['lyrics_clean'].notna()]"
   ]
  },
  {
   "cell_type": "code",
   "execution_count": 8,
   "metadata": {},
   "outputs": [
    {
     "data": {
      "text/plain": [
       "Index(['title', 'tag', 'artist', 'year', 'views', 'features', 'lyrics', 'id',\n",
       "       'language', 'yearx', 'lyrics_clean', 'lyrics_clean_with_newline'],\n",
       "      dtype='object')"
      ]
     },
     "execution_count": 8,
     "metadata": {},
     "output_type": "execute_result"
    }
   ],
   "source": [
    "df.columns"
   ]
  },
  {
   "cell_type": "code",
   "execution_count": null,
   "metadata": {},
   "outputs": [],
   "source": []
  },
  {
   "cell_type": "code",
   "execution_count": 20,
   "metadata": {},
   "outputs": [],
   "source": [
    "# get rows where \"Taylor Swift\" is in artist column\n",
    "TaylorSwift_df = df[df['artist'].str.contains('Taylor Swift')]\n",
    "eminem_df = df[df['artist'].str.contains('Eminem')]\n",
    "# TaylorSwift_df.to_csv(\"taylorSwift_data.csv\")"
   ]
  },
  {
   "cell_type": "code",
   "execution_count": 24,
   "metadata": {},
   "outputs": [],
   "source": [
    "\n",
    "def remove_stopwords(text):\n",
    "    text = ' '.join([word for word in text.split() if word not in STOP_WORDS])\n",
    "    return text\n",
    "\n",
    "# remove punctuations\n",
    "def remove_punctuations(text):\n",
    "    text = re.sub(r'[^\\w\\s]', '', text)\n",
    "    return text\n",
    "\n",
    "#remove numbers both 123\n",
    "def remove_numbers(text):\n",
    "    text = re.sub(r'\\d+', '', text)\n",
    "    return text\n",
    "\n",
    "def preprocess_text(text, remove_newline=True):\n",
    "    text = remove_stopwords(text)\n",
    "    text = remove_punctuations(text)\n",
    "    text = remove_numbers(text)\n",
    "    if remove_newline:\n",
    "        text = text.replace('\\n', '')\n",
    "    # strip text\n",
    "    text = text.strip()\n",
    "    return text"
   ]
  },
  {
   "cell_type": "code",
   "execution_count": 25,
   "metadata": {},
   "outputs": [],
   "source": [
    "#get the unique words percentage from the column \"lyrics_clean\"\n",
    "def get_unique_words_percentage_old(lyrics_list):\n",
    "    '''\n",
    "    @args : \n",
    "        lyrics_list: list [str] : list of lyrics\n",
    "    @returns:\n",
    "        percentage of unique words in the lyrics\n",
    "    '''\n",
    "\n",
    "    # get all the unique words in all the lyrics\n",
    "    unique_words = set()\n",
    "    total_words = 0\n",
    "    for lyrics in lyrics_list:\n",
    "        lyrics_processed = preprocess_text(lyrics)\n",
    "        try:\n",
    "            unique_words.update(lyrics_processed.split())\n",
    "            total_words += len(lyrics_processed.split())\n",
    "        except:\n",
    "            print(\"Lyrics caused problem : \", lyrics_processed)\n",
    "\n",
    "    # get the percentage of unique words\n",
    "    return (len(unique_words) / total_words) * 100"
   ]
  },
  {
   "cell_type": "code",
   "execution_count": 26,
   "metadata": {},
   "outputs": [],
   "source": []
  },
  {
   "cell_type": "code",
   "execution_count": 30,
   "metadata": {},
   "outputs": [
    {
     "data": {
      "text/plain": [
       "9.822057460611678"
      ]
     },
     "execution_count": 30,
     "metadata": {},
     "output_type": "execute_result"
    }
   ],
   "source": [
    "get_unique_words_percentage_old(TaylorSwift_df[\"lyrics_clean_with_newline\"])"
   ]
  },
  {
   "cell_type": "code",
   "execution_count": null,
   "metadata": {},
   "outputs": [],
   "source": []
  },
  {
   "cell_type": "code",
   "execution_count": null,
   "metadata": {},
   "outputs": [],
   "source": []
  },
  {
   "cell_type": "code",
   "execution_count": null,
   "metadata": {},
   "outputs": [],
   "source": []
  },
  {
   "cell_type": "code",
   "execution_count": null,
   "metadata": {},
   "outputs": [],
   "source": []
  },
  {
   "cell_type": "code",
   "execution_count": 45,
   "metadata": {},
   "outputs": [],
   "source": [
    "# keep the songs in TaylorSwift_df whose yearx is between 1900 and 2024\n",
    "TaylorSwift_df = TaylorSwift_df[(TaylorSwift_df['yearx'] >= 1900) & (TaylorSwift_df['yearx'] <= 2024)] "
   ]
  },
  {
   "cell_type": "code",
   "execution_count": 49,
   "metadata": {},
   "outputs": [
    {
     "data": {
      "text/plain": [
       "'Miscommunications'"
      ]
     },
     "execution_count": 49,
     "metadata": {},
     "output_type": "execute_result"
    }
   ],
   "source": [
    "# get the longest word used in all of the values in the lyrics_clean column\n",
    "\n",
    "# get all the unique words in the lyrics_clean column\n",
    "unique_words = set()\n",
    "for row in TaylorSwift_df['lyrics_clean']:\n",
    "    for word in row.split():\n",
    "        # replace the hyphens with spaces and add the words to the set\n",
    "        word = word.replace('-', ' ')\n",
    "        # if there is space in the word, split it and add the words to the set\n",
    "        if ' ' in word:\n",
    "            for w in word.split():\n",
    "                unique_words.add(w)\n",
    "\n",
    "        else:\n",
    "            unique_words.add(word)\n",
    "\n",
    "\n",
    "# get the longest word in the set\n",
    "longest_word = ''\n",
    "for word in unique_words:\n",
    "    if len(word) > len(longest_word):\n",
    "        longest_word = word\n",
    "longest_word"
   ]
  },
  {
   "cell_type": "code",
   "execution_count": 11,
   "metadata": {},
   "outputs": [],
   "source": [
    "eminem = df[df['artist'].str.contains('Eminem')]\n"
   ]
  },
  {
   "cell_type": "code",
   "execution_count": 35,
   "metadata": {},
   "outputs": [],
   "source": [
    "# count the number of times curse words appear in the lyrics\n",
    "curse_words = [\"fuck\", \"shit\", \"bitch\", \"anal\", \"ass\", \"shitbag\", \"asshole\", \"bastard\", \"damn\", \"bollocks\"]\n",
    "\n",
    "def count_curse_words(lyrics , curse_words):\n",
    "    '''\n",
    "    given a list of strings as lyrics and a list of strings for curse_words,\n",
    "    return the count of every curse word which has appeared.\n",
    "    return variable should be a dictionary where key will be the curse word and value will be its count    \n",
    "    '''\n",
    "    curse_word_counts = {curse_word: 0 for curse_word in curse_words}\n",
    "\n",
    "    for lyric in lyrics:\n",
    "        words = lyric.split()\n",
    "        \n",
    "        for word in words:\n",
    "            if word.lower() in curse_words:\n",
    "                curse_word_counts[word.lower()] += 1\n",
    "    # dont return the items which are zero\n",
    "    curse_word_counts = {word: count for word, count in curse_word_counts.items() if count > 0}\n",
    "\n",
    "    curse_word_counts = dict(sorted(curse_word_counts.items(), key=lambda item: item[1], reverse=True))\n",
    "\n",
    "    return curse_word_counts"
   ]
  },
  {
   "cell_type": "code",
   "execution_count": 36,
   "metadata": {},
   "outputs": [
    {
     "data": {
      "text/plain": [
       "{'damn': 10, 'shit': 9, 'fuck': 3, 'bitch': 1}"
      ]
     },
     "execution_count": 36,
     "metadata": {},
     "output_type": "execute_result"
    }
   ],
   "source": [
    "lyrics = TaylorSwift_df['lyrics_clean'].tolist()\n",
    "count_curse_words(lyrics, curse_words)"
   ]
  },
  {
   "cell_type": "code",
   "execution_count": 49,
   "metadata": {},
   "outputs": [],
   "source": [
    "def get_decades(df):\n",
    "    # return a dictionary with the decades as keys and \"views\" from column views as values\n",
    "    # get the years from the column yearx\n",
    "    years = df['yearx'].tolist()\n",
    "    # get the views from the column views\n",
    "    views = df['views'].tolist()\n",
    "    # create a dictionary with decades as keys and views as values\n",
    "    decades = {}\n",
    "    for i in range(len(years)):\n",
    "        decade = years[i] // 10 * 10\n",
    "        if decade in decades:\n",
    "            decades[decade] += views[i]\n",
    "        else:\n",
    "            decades[decade] = views[i]\n",
    "\n",
    "    # use the convert_to_thousands to convert the values into thousands, millions, billions, etc.\n",
    "    # for key in decades:\n",
    "    #     decades[key] = convert_to_thousands(decades[key])\n",
    "        \n",
    "    return decades\n",
    "\n",
    "\n",
    "def convert_to_thousands(number):\n",
    "    if number < 1000:\n",
    "        return str(number)\n",
    "    elif number < 1000000:\n",
    "        return str(number // 1000) + 'K'\n",
    "    elif number < 1000000000:\n",
    "        return str(number // 1000000) + 'M'\n",
    "    else:\n",
    "        return str(number // 1000000000) + 'B'"
   ]
  },
  {
   "cell_type": "code",
   "execution_count": 50,
   "metadata": {},
   "outputs": [
    {
     "data": {
      "text/plain": [
       "{2010: 49421076, 2000: 4168380, 2020: 45561642}"
      ]
     },
     "execution_count": 50,
     "metadata": {},
     "output_type": "execute_result"
    }
   ],
   "source": [
    "get_decades(TaylorSwift_df)"
   ]
  },
  {
   "cell_type": "code",
   "execution_count": 25,
   "metadata": {},
   "outputs": [],
   "source": [
    "# remove stop words\n",
    "from nltk.corpus import stopwords\n",
    "stop = stopwords.words('english')\n",
    "\n",
    "def remove_stopwords(text):\n",
    "    text = ' '.join([word for word in text.split() if word not in (stop)])\n",
    "    return text\n",
    "\n",
    "# remove punctuations\n",
    "def remove_punctuations(text):\n",
    "    text = re.sub(r'[^\\w\\s]', '', text)\n",
    "    return text\n",
    "\n",
    "#remove numbers both 123\n",
    "def remove_numbers(text):\n",
    "    text = re.sub(r'\\d+', '', text)\n",
    "    return text\n",
    "\n",
    "def preprocess(text):\n",
    "    text = remove_stopwords(text)\n",
    "    text = remove_punctuations(text)\n",
    "    text = remove_numbers(text)\n",
    "    return text"
   ]
  },
  {
   "cell_type": "code",
   "execution_count": 30,
   "metadata": {},
   "outputs": [],
   "source": [
    "#get the unique words percentage from the column \"lyrics_clean\"\n",
    "def get_unique_words_percentage(lyrics_list):\n",
    "    '''\n",
    "    @args : \n",
    "        lyrics_list: list [str] : list of lyrics\n",
    "    @returns:\n",
    "        percentage of unique words in the lyrics\n",
    "    '''\n",
    "\n",
    "    # get all the unique words in all the lyrics\n",
    "    unique_words = set()\n",
    "    total_words = 0\n",
    "    for lyrics in lyrics_list:\n",
    "        lyrics_processed = preprocess(lyrics)\n",
    "        try:\n",
    "            unique_words.update(lyrics_processed.split())\n",
    "            total_words += len(lyrics_processed.split())\n",
    "        except:\n",
    "            print(\"Lyrics caused problem : \", lyrics_processed)\n",
    "\n",
    "    # get the percentage of unique words\n",
    "    return (len(unique_words) / total_words) * 100"
   ]
  },
  {
   "cell_type": "code",
   "execution_count": 31,
   "metadata": {},
   "outputs": [
    {
     "data": {
      "text/plain": [
       "8.900982565256228"
      ]
     },
     "execution_count": 31,
     "metadata": {},
     "output_type": "execute_result"
    }
   ],
   "source": [
    "# get all the lyrics of taylor swift in list\n",
    "temp_df = df[df['artist'].str.contains('Taylor Swift')]\n",
    "\n",
    "lyrics_list = temp_df['lyrics_clean'].tolist()\n",
    "get_unique_words_percentage(lyrics_list)"
   ]
  },
  {
   "cell_type": "code",
   "execution_count": 21,
   "metadata": {},
   "outputs": [
    {
     "data": {
      "text/plain": [
       "10.460270570034853"
      ]
     },
     "execution_count": 21,
     "metadata": {},
     "output_type": "execute_result"
    }
   ],
   "source": [
    "# get all the lyrics of taylor swift in list\n",
    "temp_df = df[df['artist'].str.contains('Eminem')]\n",
    "\n",
    "lyrics_list = temp_df['lyrics_clean'].tolist()\n",
    "get_unique_words_percentage(lyrics_list)"
   ]
  },
  {
   "cell_type": "code",
   "execution_count": 32,
   "metadata": {},
   "outputs": [],
   "source": [
    "famous_artists = [\"Drake\", \"Eminem\", \"Kanye West\", \"Taylor Swift\", \"Selena Gomez\", \"Dua Lipa\", \"Ariana Grande\", \"Justin Bieber\", \"Billie Eilish\",\n",
    "                  \"Lady Gaga\", \"Adele\" , \"Britney Spears\", \"Katy Perry\" , \"Ed Sheeran\", \"Rihanna\", \"Bruno Mars\", \"Bruno Mars\",\n",
    "                  \"Demi Lovato\", \"Miley Cyrus\", \"Jennifer Lopez\", \"Charlie Puth\"]\n",
    "\n",
    "#get_unique_words_percentage of all the famous artists\n",
    "unique_words_percentage = {} #key will be the name of the artist and value will be the percentage of unique words\n",
    "for artist in famous_artists:\n",
    "    temp_df = df[df['artist'].str.contains(artist)]\n",
    "    lyrics_list = temp_df['lyrics_clean'].tolist()\n",
    "    unique_words_percentage[artist] = get_unique_words_percentage(lyrics_list)\n",
    "\n",
    "\n"
   ]
  },
  {
   "cell_type": "code",
   "execution_count": 33,
   "metadata": {},
   "outputs": [
    {
     "data": {
      "text/plain": [
       "{'Drake': 10.22452173357606,\n",
       " 'Eminem': 11.228101417981879,\n",
       " 'Kanye West': 10.225898442749005,\n",
       " 'Taylor Swift': 8.900982565256228,\n",
       " 'Selena Gomez': 12.352805356730547,\n",
       " 'Dua Lipa': 12.282274590163935,\n",
       " 'Ariana Grande': 9.372429348547168,\n",
       " 'Justin Bieber': 10.138736235250203,\n",
       " 'Billie Eilish': 19.315188762071994,\n",
       " 'Lady Gaga': 12.62865190856235,\n",
       " 'Adele': 15.288220551378446,\n",
       " 'Britney Spears': 10.839131172577634,\n",
       " 'Katy Perry': 16.724279835390945,\n",
       " 'Ed Sheeran': 12.533447770990053,\n",
       " 'Rihanna': 10.189822172909107,\n",
       " 'Bruno Mars': 14.881841342352631,\n",
       " 'Demi Lovato': 12.295719844357976,\n",
       " 'Miley Cyrus': 13.699709459792189,\n",
       " 'Jennifer Lopez': 13.7482019834961,\n",
       " 'Charlie Puth': 13.028993336934992}"
      ]
     },
     "execution_count": 33,
     "metadata": {},
     "output_type": "execute_result"
    }
   ],
   "source": [
    "unique_words_percentage"
   ]
  },
  {
   "cell_type": "code",
   "execution_count": null,
   "metadata": {},
   "outputs": [],
   "source": []
  },
  {
   "cell_type": "code",
   "execution_count": 5,
   "metadata": {},
   "outputs": [
    {
     "data": {
      "text/plain": [
       "Index(['Unnamed: 0', 'title', 'tag', 'artist', 'year', 'views', 'features',\n",
       "       'lyrics', 'id', 'language', 'yearx', 'lyrics_clean'],\n",
       "      dtype='object')"
      ]
     },
     "execution_count": 5,
     "metadata": {},
     "output_type": "execute_result"
    }
   ],
   "source": [
    "df.columns"
   ]
  },
  {
   "cell_type": "code",
   "execution_count": 11,
   "metadata": {},
   "outputs": [
    {
     "data": {
      "text/plain": [
       "artist\n",
       "Drake                          289846623\n",
       "Eminem                         199693351\n",
       "Kanye West                     164935386\n",
       "Genius English Translations    150653390\n",
       "Kendrick Lamar                 148283602\n",
       "The Weeknd                     118636595\n",
       "Taylor Swift                    98384074\n",
       "J. Cole                         95276882\n",
       "XXXTENTACION                    90767718\n",
       "Ariana Grande                   73867181\n",
       "Name: views, dtype: int64"
      ]
     },
     "execution_count": 11,
     "metadata": {},
     "output_type": "execute_result"
    }
   ],
   "source": [
    "# get which \"artist\" has the most \"views\"\n",
    "# draw a table\n",
    "\n",
    "df.groupby('artist')['views'].sum().sort_values(ascending=False).head(10)"
   ]
  },
  {
   "cell_type": "code",
   "execution_count": 12,
   "metadata": {},
   "outputs": [
    {
     "data": {
      "text/plain": [
       "artist\n",
       "Genius English Translations    1994\n",
       "Juice WRLD                      573\n",
       "Lil Wayne                       551\n",
       "Drake                           417\n",
       "Genius Romanizations            394\n",
       "Eminem                          365\n",
       "Chris Brown                     365\n",
       "Chief Keef                      354\n",
       "YoungBoy Never Broke Again      350\n",
       "Kanye West                      348\n",
       "Name: artist, dtype: int64"
      ]
     },
     "execution_count": 12,
     "metadata": {},
     "output_type": "execute_result"
    }
   ],
   "source": [
    "# get which \"artist\" appears the most\n",
    "df.groupby('artist')['artist'].count().sort_values(ascending=False).head(10)\n",
    "# drake = 417\n",
    "# eminem = 365\n",
    "# Kanye West = 348\n",
    "# taylor swift = 268"
   ]
  },
  {
   "cell_type": "code",
   "execution_count": 14,
   "metadata": {},
   "outputs": [
    {
     "data": {
      "text/plain": [
       "<AxesSubplot:ylabel='tag'>"
      ]
     },
     "execution_count": 14,
     "metadata": {},
     "output_type": "execute_result"
    },
    {
     "data": {
      "image/png": "[encoded data removed]",
      "text/plain": [
       "<Figure size 432x288 with 1 Axes>"
      ]
     },
     "metadata": {
      "needs_background": "light"
     },
     "output_type": "display_data"
    }
   ],
   "source": [
    "#plot which tag appears the most\n",
    "df.groupby('tag')['tag'].count().sort_values(ascending=False).head(10).plot(kind='barh')"
   ]
  },
  {
   "cell_type": "code",
   "execution_count": 86,
   "metadata": {},
   "outputs": [
    {
     "data": {
      "text/html": [
       "<div>\n",
       "<style scoped>\n",
       "    .dataframe tbody tr th:only-of-type {\n",
       "        vertical-align: middle;\n",
       "    }\n",
       "\n",
       "    .dataframe tbody tr th {\n",
       "        vertical-align: top;\n",
       "    }\n",
       "\n",
       "    .dataframe thead th {\n",
       "        text-align: right;\n",
       "    }\n",
       "</style>\n",
       "<table border=\"1\" class=\"dataframe\">\n",
       "  <thead>\n",
       "    <tr style=\"text-align: right;\">\n",
       "      <th></th>\n",
       "      <th>Unnamed: 0</th>\n",
       "      <th>title</th>\n",
       "      <th>tag</th>\n",
       "      <th>artist</th>\n",
       "      <th>year</th>\n",
       "      <th>views</th>\n",
       "      <th>features</th>\n",
       "      <th>lyrics</th>\n",
       "      <th>id</th>\n",
       "      <th>language</th>\n",
       "      <th>yearx</th>\n",
       "      <th>lyrics_clean</th>\n",
       "    </tr>\n",
       "  </thead>\n",
       "  <tbody>\n",
       "    <tr>\n",
       "      <th>41745</th>\n",
       "      <td>42232</td>\n",
       "      <td>Kiss Me</td>\n",
       "      <td>pop</td>\n",
       "      <td>Charlie Puth</td>\n",
       "      <td>2013</td>\n",
       "      <td>46839</td>\n",
       "      <td>{}</td>\n",
       "      <td>[Verse 1]\\nI should have told you how I really...</td>\n",
       "      <td>571036</td>\n",
       "      <td>en</td>\n",
       "      <td>2013</td>\n",
       "      <td>I should have told you how I really feel A li...</td>\n",
       "    </tr>\n",
       "    <tr>\n",
       "      <th>44566</th>\n",
       "      <td>45214</td>\n",
       "      <td>Marvin Gaye</td>\n",
       "      <td>pop</td>\n",
       "      <td>Charlie Puth</td>\n",
       "      <td>2015</td>\n",
       "      <td>571624</td>\n",
       "      <td>{\"Meghan Trainor\"}</td>\n",
       "      <td>[Intro: Charlie Puth]\\nLet's Marvin Gaye and g...</td>\n",
       "      <td>706298</td>\n",
       "      <td>en</td>\n",
       "      <td>2015</td>\n",
       "      <td>Let's Marvin Gaye and get it on You got the h...</td>\n",
       "    </tr>\n",
       "  </tbody>\n",
       "</table>\n",
       "</div>"
      ],
      "text/plain": [
       "       Unnamed: 0        title  tag        artist  year   views  \\\n",
       "41745       42232      Kiss Me  pop  Charlie Puth  2013   46839   \n",
       "44566       45214  Marvin Gaye  pop  Charlie Puth  2015  571624   \n",
       "\n",
       "                 features                                             lyrics  \\\n",
       "41745                  {}  [Verse 1]\\nI should have told you how I really...   \n",
       "44566  {\"Meghan Trainor\"}  [Intro: Charlie Puth]\\nLet's Marvin Gaye and g...   \n",
       "\n",
       "           id language  yearx  \\\n",
       "41745  571036       en   2013   \n",
       "44566  706298       en   2015   \n",
       "\n",
       "                                            lyrics_clean  \n",
       "41745   I should have told you how I really feel A li...  \n",
       "44566   Let's Marvin Gaye and get it on You got the h...  "
      ]
     },
     "execution_count": 86,
     "metadata": {},
     "output_type": "execute_result"
    }
   ],
   "source": [
    "# filter the rows in which \"Sheeran\" appears inside the \"artist\" column\n",
    "df[df['artist'].str.contains('Puth')].head(2)"
   ]
  },
  {
   "cell_type": "code",
   "execution_count": 17,
   "metadata": {},
   "outputs": [],
   "source": [
    "\n"
   ]
  },
  {
   "cell_type": "code",
   "execution_count": 87,
   "metadata": {},
   "outputs": [
    {
     "name": "stdout",
     "output_type": "stream",
     "text": [
      "Drake songs distribution : \n",
      " rap     420\n",
      "rb       28\n",
      "rock     23\n",
      "pop      21\n",
      "misc      5\n",
      "Name: tag, dtype: int64\n",
      "Eminem songs distribution : \n",
      " rap     375\n",
      "misc      9\n",
      "Name: tag, dtype: int64\n",
      "Kanye West songs distribution : \n",
      " rap     340\n",
      "misc     19\n",
      "pop      14\n",
      "rb       10\n",
      "Name: tag, dtype: int64\n",
      "Taylor Swift songs distribution : \n",
      " pop        125\n",
      "country    124\n",
      "misc        18\n",
      "rap          1\n",
      "rock         1\n",
      "Name: tag, dtype: int64\n",
      "Selena Gomez songs distribution : \n",
      " pop     78\n",
      "rock     3\n",
      "rb       2\n",
      "Name: tag, dtype: int64\n",
      "Dua Lipa songs distribution : \n",
      " pop    65\n",
      "rap     1\n",
      "Name: tag, dtype: int64\n",
      "Ariana Grande songs distribution : \n",
      " pop    110\n",
      "rb      42\n",
      "rap      2\n",
      "Name: tag, dtype: int64\n",
      "Justin Bieber songs distribution : \n",
      " pop        149\n",
      "rb          40\n",
      "rap          7\n",
      "misc         1\n",
      "country      1\n",
      "Name: tag, dtype: int64\n",
      "Billie Eilish songs distribution : \n",
      " pop     71\n",
      "rock     3\n",
      "rb       1\n",
      "misc     1\n",
      "Name: tag, dtype: int64\n",
      "Lady Gaga songs distribution : \n",
      " pop        115\n",
      "rock         5\n",
      "rap          1\n",
      "country      1\n",
      "Name: tag, dtype: int64\n",
      "Adele songs distribution : \n",
      " pop        55\n",
      "rb          2\n",
      "country     1\n",
      "Name: tag, dtype: int64\n",
      "Britney Spears songs distribution : \n",
      " pop    93\n",
      "rb      1\n",
      "Name: tag, dtype: int64\n",
      "Katy Perry songs distribution : \n",
      " pop        76\n",
      "rock        3\n",
      "misc        1\n",
      "rb          1\n",
      "country     1\n",
      "Name: tag, dtype: int64\n",
      "Ed Sheeran songs distribution : \n",
      " pop     120\n",
      "rap      12\n",
      "rock      4\n",
      "rb        1\n",
      "Name: tag, dtype: int64\n",
      "Rihanna songs distribution : \n",
      " pop        84\n",
      "rb         28\n",
      "rap         4\n",
      "rock        2\n",
      "country     1\n",
      "Name: tag, dtype: int64\n",
      "Bruno Mars songs distribution : \n",
      " pop     41\n",
      "rb       4\n",
      "rap      1\n",
      "misc     1\n",
      "Name: tag, dtype: int64\n",
      "Demi Lovato songs distribution : \n",
      " pop     93\n",
      "rb       6\n",
      "rock     2\n",
      "Name: tag, dtype: int64\n",
      "Miley Cyrus songs distribution : \n",
      " pop        89\n",
      "rock       10\n",
      "country     2\n",
      "rap         1\n",
      "Name: tag, dtype: int64\n",
      "Jennifer Lopez songs distribution : \n",
      " pop    28\n",
      "rb      8\n",
      "rap     1\n",
      "Name: tag, dtype: int64\n",
      "Charlie Puth songs distribution : \n",
      " pop    48\n",
      "rap     2\n",
      "rb      2\n",
      "Name: tag, dtype: int64\n"
     ]
    }
   ],
   "source": [
    "# get all the unique values of \"tag\" column for the artist \n",
    "#\n",
    "# do it  \"Drake\", \"Eminem\", \"Kanye West\", \"Taylor Swift\", \"Selena Gomez\", \"Dua Lipa\", \"Ariana Grande\", \"Justin Bieber\", \"Billie Eilish\",\n",
    "# and \"Lady Gaga\", \"Adele\" , \"Britney Spears\", \"Katy Perry\" , \"Ed Sheeran\", \"Rihanna\", \"Bruno Mars\", \"Bruno Mars\",\n",
    "# \"Demi Lovato\", \"Miley Cyrus\", \"Jennifer Lopez\", \"Charlie Puth\"\n",
    "\n",
    "\n",
    "# also get the counts of each tag\n",
    "# check if the artist contains these artist names.\n",
    "\n",
    "print(\"Drake songs distribution : \\n\", df[df['artist'].str.contains('Drake')]['tag'].value_counts() )\n",
    "\n",
    "print(\"Eminem songs distribution : \\n\", df[df['artist'].str.contains('Eminem')]['tag'].value_counts() )\n",
    "\n",
    "print(\"Kanye West songs distribution : \\n\", df[df['artist'].str.contains('Kanye West')]['tag'].value_counts() )\n",
    "\n",
    "print(\"Taylor Swift songs distribution : \\n\", df[df['artist'].str.contains('Taylor Swift')]['tag'].value_counts() )\n",
    "\n",
    "print(\"Selena Gomez songs distribution : \\n\", df[df['artist'].str.contains('Selena Gomez')]['tag'].value_counts() )\n",
    "\n",
    "print(\"Dua Lipa songs distribution : \\n\", df[df['artist'].str.contains('Dua Lipa')]['tag'].value_counts() )\n",
    "\n",
    "print(\"Ariana Grande songs distribution : \\n\", df[df['artist'].str.contains('Ariana Grande')]['tag'].value_counts() )\n",
    "\n",
    "print(\"Justin Bieber songs distribution : \\n\", df[df['artist'].str.contains('Justin Bieber')]['tag'].value_counts() )\n",
    "\n",
    "print(\"Billie Eilish songs distribution : \\n\", df[df['artist'].str.contains('Billie Eilish')]['tag'].value_counts() )\n",
    "\n",
    "print(\"Lady Gaga songs distribution : \\n\", df[df['artist'].str.contains('Lady Gaga')]['tag'].value_counts() )\n",
    "\n",
    "print(\"Adele songs distribution : \\n\", df[df['artist'].str.contains('Adele')]['tag'].value_counts() )\n",
    "\n",
    "print(\"Britney Spears songs distribution : \\n\", df[df['artist'].str.contains('Britney Spears')]['tag'].value_counts() )\n",
    "\n",
    "print(\"Katy Perry songs distribution : \\n\", df[df['artist'].str.contains('Katy Perry')]['tag'].value_counts() )\n",
    "\n",
    "print(\"Ed Sheeran songs distribution : \\n\", df[df['artist'].str.contains('Ed Sheeran')]['tag'].value_counts() )\n",
    "\n",
    "print(\"Rihanna songs distribution : \\n\", df[df['artist'].str.contains('Rihanna')]['tag'].value_counts() )\n",
    "\n",
    "print(\"Bruno Mars songs distribution : \\n\", df[df['artist'].str.contains('Bruno Mars')]['tag'].value_counts() )\n",
    "\n",
    "print(\"Demi Lovato songs distribution : \\n\", df[df['artist'].str.contains('Demi Lovato')]['tag'].value_counts() )\n",
    "\n",
    "print(\"Miley Cyrus songs distribution : \\n\", df[df['artist'].str.contains('Miley Cyrus')]['tag'].value_counts() )\n",
    "\n",
    "print(\"Jennifer Lopez songs distribution : \\n\", df[df['artist'].str.contains('Jennifer Lopez')]['tag'].value_counts() )\n",
    "\n",
    "print(\"Charlie Puth songs distribution : \\n\", df[df['artist'].str.contains('Charlie Puth')]['tag'].value_counts() )\n",
    "\n"
   ]
  },
  {
   "cell_type": "code",
   "execution_count": 88,
   "metadata": {},
   "outputs": [
    {
     "data": {
      "text/plain": [
       "(1315, 12)"
      ]
     },
     "execution_count": 88,
     "metadata": {},
     "output_type": "execute_result"
    }
   ],
   "source": [
    "# filter out songs from these artists:\n",
    "# \"Drake\", \"Eminem\", \"Kanye West\", \"Taylor Swift\", \"Selena Gomez\", \"Dua Lipa\", \"Ariana Grande\", \"Justin Bieber\", \"Billie Eilish\"\n",
    "\n",
    "# Didnt do \"Drake\", \"Eminem\", \"Kanye West\", for now\n",
    "pop_famous_artists = [\"Taylor Swift\", \"Selena Gomez\", \"Dua Lipa\", \"Ariana Grande\", \"Justin Bieber\", \"Billie Eilish\",\n",
    "                      \"Lady Gaga\", \"Adele\" , \"Britney Spears\", \"Katy Perry\" , \"Ed Sheeran\", \"Rihanna\", \"Bruno Mars\",\n",
    "                      \"Demi Lovato\", \"Miley Cyrus\", \"Jennifer Lopez\", \"Charlie Puth\"]\n",
    "\n",
    "# get the rows in which the artist is in the list above and tag is pop\n",
    "df_pop = df[(df['artist'].isin(pop_famous_artists)) & (df['tag'] == 'pop')]\n",
    "df_pop.shape"
   ]
  },
  {
   "cell_type": "code",
   "execution_count": 24,
   "metadata": {},
   "outputs": [
    {
     "name": "stdout",
     "output_type": "stream",
     "text": [
      "Average number of words in : \n",
      " Drake :  496.6091127098321\n",
      " Eminem :  727.1181318681319\n",
      " Kanye :  527.6685878962536\n",
      " Taylor :  361.3619402985075\n"
     ]
    }
   ],
   "source": [
    "# get the average number of words in \"lyrics clean\" for each popular artist drake, eminem, kanye, taylor\n",
    "# plot it\n",
    "print(\"Average number of words in : \")\n",
    "print(\" Drake : \", drake['lyrics_clean'].str.split().str.len().mean())\n",
    "print(\" Eminem : \", eminem['lyrics_clean'].str.split().str.len().mean())\n",
    "print(\" Kanye : \", kanye['lyrics_clean'].str.split().str.len().mean())\n",
    "print(\" Taylor : \", taylor['lyrics_clean'].str.split().str.len().mean())\n"
   ]
  },
  {
   "cell_type": "code",
   "execution_count": null,
   "metadata": {},
   "outputs": [],
   "source": [
    "taylor = df[df['artist'] == 'Taylor Swift']\n",
    "drake = df[df['artist'] == 'Drake']\n",
    "eminem = df[df['artist'] == 'Eminem']\n",
    "kanye = df[df['artist'] == 'Kanye West']\n",
    "\n",
    "\n",
    "pop = df[df['tag'] == 'pop']\n",
    "rap = df[df['tag'] == 'rap']\n"
   ]
  },
  {
   "cell_type": "code",
   "execution_count": null,
   "metadata": {},
   "outputs": [],
   "source": []
  },
  {
   "cell_type": "code",
   "execution_count": 43,
   "metadata": {},
   "outputs": [
    {
     "data": {
      "text/html": [
       "<div>\n",
       "<style scoped>\n",
       "    .dataframe tbody tr th:only-of-type {\n",
       "        vertical-align: middle;\n",
       "    }\n",
       "\n",
       "    .dataframe tbody tr th {\n",
       "        vertical-align: top;\n",
       "    }\n",
       "\n",
       "    .dataframe thead th {\n",
       "        text-align: right;\n",
       "    }\n",
       "</style>\n",
       "<table border=\"1\" class=\"dataframe\">\n",
       "  <thead>\n",
       "    <tr style=\"text-align: right;\">\n",
       "      <th></th>\n",
       "      <th>Unnamed: 0</th>\n",
       "      <th>title</th>\n",
       "      <th>tag</th>\n",
       "      <th>artist</th>\n",
       "      <th>year</th>\n",
       "      <th>views</th>\n",
       "      <th>features</th>\n",
       "      <th>lyrics</th>\n",
       "      <th>id</th>\n",
       "      <th>language</th>\n",
       "      <th>yearx</th>\n",
       "      <th>lyrics_clean</th>\n",
       "    </tr>\n",
       "  </thead>\n",
       "  <tbody>\n",
       "    <tr>\n",
       "      <th>15672</th>\n",
       "      <td>15706</td>\n",
       "      <td>Put Your Hearts Up</td>\n",
       "      <td>pop</td>\n",
       "      <td>Ariana Grande</td>\n",
       "      <td>2011</td>\n",
       "      <td>23770</td>\n",
       "      <td>{}</td>\n",
       "      <td>[Intro]\\nLet me see you put your hearts up, ye...</td>\n",
       "      <td>93347</td>\n",
       "      <td>en</td>\n",
       "      <td>2011</td>\n",
       "      <td>Let me see you put your hearts up, yeah Let m...</td>\n",
       "    </tr>\n",
       "    <tr>\n",
       "      <th>16202</th>\n",
       "      <td>16242</td>\n",
       "      <td>Daydreamin</td>\n",
       "      <td>pop</td>\n",
       "      <td>Ariana Grande</td>\n",
       "      <td>2013</td>\n",
       "      <td>125117</td>\n",
       "      <td>{}</td>\n",
       "      <td>[Verse 1]\\nYou walked in\\nCaught my attention\\...</td>\n",
       "      <td>97794</td>\n",
       "      <td>en</td>\n",
       "      <td>2013</td>\n",
       "      <td>You walked in Caught my attention I've never ...</td>\n",
       "    </tr>\n",
       "    <tr>\n",
       "      <th>16203</th>\n",
       "      <td>16243</td>\n",
       "      <td>VOODOO LOVE</td>\n",
       "      <td>pop</td>\n",
       "      <td>Ariana Grande</td>\n",
       "      <td>2016</td>\n",
       "      <td>18845</td>\n",
       "      <td>{}</td>\n",
       "      <td>[Verse 1]\\nI wanna mix a potion up\\nMake a spe...</td>\n",
       "      <td>97789</td>\n",
       "      <td>en</td>\n",
       "      <td>2016</td>\n",
       "      <td>I wanna mix a potion up Make a special drink ...</td>\n",
       "    </tr>\n",
       "    <tr>\n",
       "      <th>17287</th>\n",
       "      <td>17331</td>\n",
       "      <td>Baby Its Cold Outside</td>\n",
       "      <td>pop</td>\n",
       "      <td>Larry Lovestein &amp; Ariana Grande</td>\n",
       "      <td>2012</td>\n",
       "      <td>50047</td>\n",
       "      <td>{}</td>\n",
       "      <td>[Verse 1: Larry Lovestein &amp; Ariana Grande]\\nI ...</td>\n",
       "      <td>104999</td>\n",
       "      <td>en</td>\n",
       "      <td>2012</td>\n",
       "      <td>I really can't stay, but baby it's cold outsi...</td>\n",
       "    </tr>\n",
       "    <tr>\n",
       "      <th>19199</th>\n",
       "      <td>19259</td>\n",
       "      <td>Honeymoon Avenue</td>\n",
       "      <td>pop</td>\n",
       "      <td>Ariana Grande</td>\n",
       "      <td>2013</td>\n",
       "      <td>236596</td>\n",
       "      <td>{}</td>\n",
       "      <td>[Intro: Ariana Grande &amp; Leon Thomas III]\\nShoo...</td>\n",
       "      <td>119682</td>\n",
       "      <td>en</td>\n",
       "      <td>2013</td>\n",
       "      <td>Shoo-doo-doo-dum-doo, da-da Shoo-doo-doo-dum-...</td>\n",
       "    </tr>\n",
       "    <tr>\n",
       "      <th>...</th>\n",
       "      <td>...</td>\n",
       "      <td>...</td>\n",
       "      <td>...</td>\n",
       "      <td>...</td>\n",
       "      <td>...</td>\n",
       "      <td>...</td>\n",
       "      <td>...</td>\n",
       "      <td>...</td>\n",
       "      <td>...</td>\n",
       "      <td>...</td>\n",
       "      <td>...</td>\n",
       "      <td>...</td>\n",
       "    </tr>\n",
       "    <tr>\n",
       "      <th>125600</th>\n",
       "      <td>171273</td>\n",
       "      <td>Save Your Tears Remix</td>\n",
       "      <td>pop</td>\n",
       "      <td>Ariana Grande &amp; The Weeknd</td>\n",
       "      <td>2021</td>\n",
       "      <td>652326</td>\n",
       "      <td>{}</td>\n",
       "      <td>[Intro: The Weeknd &amp; Ariana Grande]\\nOoh (Ooh)...</td>\n",
       "      <td>6722709</td>\n",
       "      <td>en</td>\n",
       "      <td>2021</td>\n",
       "      <td>Ooh (Ooh) Na-na, yeah   I saw you dancing in ...</td>\n",
       "    </tr>\n",
       "    <tr>\n",
       "      <th>126115</th>\n",
       "      <td>174279</td>\n",
       "      <td>Rain On Me Arca Remix</td>\n",
       "      <td>pop</td>\n",
       "      <td>Lady Gaga &amp; Ariana Grande</td>\n",
       "      <td>2021</td>\n",
       "      <td>13063</td>\n",
       "      <td>{Arca}</td>\n",
       "      <td>[Intro: Ariana Grande]\\n(Rain on me, rain on m...</td>\n",
       "      <td>6835118</td>\n",
       "      <td>en</td>\n",
       "      <td>2021</td>\n",
       "      <td>(Rain on me, rain on me) Rain on me Rain on m...</td>\n",
       "    </tr>\n",
       "    <tr>\n",
       "      <th>127860</th>\n",
       "      <td>180902</td>\n",
       "      <td>Santa Can’t You Hear Me</td>\n",
       "      <td>pop</td>\n",
       "      <td>Kelly Clarkson &amp; Ariana Grande</td>\n",
       "      <td>2021</td>\n",
       "      <td>23474</td>\n",
       "      <td>{}</td>\n",
       "      <td>[Verse 1: Kelly Clarkson, Ariana Grande]\\nKeep...</td>\n",
       "      <td>7222324</td>\n",
       "      <td>en</td>\n",
       "      <td>2021</td>\n",
       "      <td>Keep the snow and sleigh rides Keep those sil...</td>\n",
       "    </tr>\n",
       "    <tr>\n",
       "      <th>128157</th>\n",
       "      <td>181801</td>\n",
       "      <td>​you Sweetener Outtake</td>\n",
       "      <td>rb</td>\n",
       "      <td>Ariana Grande</td>\n",
       "      <td>2018</td>\n",
       "      <td>18989</td>\n",
       "      <td>{}</td>\n",
       "      <td>[Verse 1]\\nRemember when you disappeared? (Yuh...</td>\n",
       "      <td>7296584</td>\n",
       "      <td>en</td>\n",
       "      <td>-1</td>\n",
       "      <td>Remember when you disappeared? (Yuh) I couldn...</td>\n",
       "    </tr>\n",
       "    <tr>\n",
       "      <th>128369</th>\n",
       "      <td>182542</td>\n",
       "      <td>Just Look Up</td>\n",
       "      <td>pop</td>\n",
       "      <td>Ariana Grande &amp; Kid Cudi</td>\n",
       "      <td>2021</td>\n",
       "      <td>104505</td>\n",
       "      <td>{}</td>\n",
       "      <td>[Intro: Ariana Grande]\\nMm-mm, hmm\\nAh, ah\\n\\n...</td>\n",
       "      <td>7355167</td>\n",
       "      <td>en</td>\n",
       "      <td>2021</td>\n",
       "      <td>Mm-mm, hmm Ah, ah   We knew no bounds Fell at...</td>\n",
       "    </tr>\n",
       "  </tbody>\n",
       "</table>\n",
       "<p>155 rows × 12 columns</p>\n",
       "</div>"
      ],
      "text/plain": [
       "        Unnamed: 0                    title  tag  \\\n",
       "15672        15706       Put Your Hearts Up  pop   \n",
       "16202        16242               Daydreamin  pop   \n",
       "16203        16243              VOODOO LOVE  pop   \n",
       "17287        17331    Baby Its Cold Outside  pop   \n",
       "19199        19259         Honeymoon Avenue  pop   \n",
       "...            ...                      ...  ...   \n",
       "125600      171273    Save Your Tears Remix  pop   \n",
       "126115      174279    Rain On Me Arca Remix  pop   \n",
       "127860      180902  Santa Can’t You Hear Me  pop   \n",
       "128157      181801   ​you Sweetener Outtake   rb   \n",
       "128369      182542             Just Look Up  pop   \n",
       "\n",
       "                                 artist  year   views features  \\\n",
       "15672                     Ariana Grande  2011   23770       {}   \n",
       "16202                     Ariana Grande  2013  125117       {}   \n",
       "16203                     Ariana Grande  2016   18845       {}   \n",
       "17287   Larry Lovestein & Ariana Grande  2012   50047       {}   \n",
       "19199                     Ariana Grande  2013  236596       {}   \n",
       "...                                 ...   ...     ...      ...   \n",
       "125600       Ariana Grande & The Weeknd  2021  652326       {}   \n",
       "126115        Lady Gaga & Ariana Grande  2021   13063   {Arca}   \n",
       "127860   Kelly Clarkson & Ariana Grande  2021   23474       {}   \n",
       "128157                    Ariana Grande  2018   18989       {}   \n",
       "128369         Ariana Grande & Kid Cudi  2021  104505       {}   \n",
       "\n",
       "                                                   lyrics       id language  \\\n",
       "15672   [Intro]\\nLet me see you put your hearts up, ye...    93347       en   \n",
       "16202   [Verse 1]\\nYou walked in\\nCaught my attention\\...    97794       en   \n",
       "16203   [Verse 1]\\nI wanna mix a potion up\\nMake a spe...    97789       en   \n",
       "17287   [Verse 1: Larry Lovestein & Ariana Grande]\\nI ...   104999       en   \n",
       "19199   [Intro: Ariana Grande & Leon Thomas III]\\nShoo...   119682       en   \n",
       "...                                                   ...      ...      ...   \n",
       "125600  [Intro: The Weeknd & Ariana Grande]\\nOoh (Ooh)...  6722709       en   \n",
       "126115  [Intro: Ariana Grande]\\n(Rain on me, rain on m...  6835118       en   \n",
       "127860  [Verse 1: Kelly Clarkson, Ariana Grande]\\nKeep...  7222324       en   \n",
       "128157  [Verse 1]\\nRemember when you disappeared? (Yuh...  7296584       en   \n",
       "128369  [Intro: Ariana Grande]\\nMm-mm, hmm\\nAh, ah\\n\\n...  7355167       en   \n",
       "\n",
       "        yearx                                       lyrics_clean  \n",
       "15672    2011   Let me see you put your hearts up, yeah Let m...  \n",
       "16202    2013   You walked in Caught my attention I've never ...  \n",
       "16203    2016   I wanna mix a potion up Make a special drink ...  \n",
       "17287    2012   I really can't stay, but baby it's cold outsi...  \n",
       "19199    2013   Shoo-doo-doo-dum-doo, da-da Shoo-doo-doo-dum-...  \n",
       "...       ...                                                ...  \n",
       "125600   2021   Ooh (Ooh) Na-na, yeah   I saw you dancing in ...  \n",
       "126115   2021   (Rain on me, rain on me) Rain on me Rain on m...  \n",
       "127860   2021   Keep the snow and sleigh rides Keep those sil...  \n",
       "128157     -1   Remember when you disappeared? (Yuh) I couldn...  \n",
       "128369   2021   Mm-mm, hmm Ah, ah   We knew no bounds Fell at...  \n",
       "\n",
       "[155 rows x 12 columns]"
      ]
     },
     "execution_count": 43,
     "metadata": {},
     "output_type": "execute_result"
    }
   ],
   "source": [
    "for i in tqdm( range( 0, df_en.shape[0] ) ):\n",
    "    if i <= 1360 : #total batches done * 20\n",
    "      batch_number = 69\n",
    "      continue\n",
    "\n",
    "    # check if the df_en.iloc[i]['artist'] contains one of the pop_famous_artists\n",
    "    if df_en.iloc[i]['artist'] in pop_famous_artists:\n",
    "        print(\"found one\")\n",
    "        continue"
   ]
  },
  {
   "cell_type": "code",
   "execution_count": 25,
   "metadata": {},
   "outputs": [
    {
     "name": "stdout",
     "output_type": "stream",
     "text": [
      "The number of songs for each artist : \n",
      " Drake :  417\n",
      " Eminem :  365\n",
      " Kanye :  348\n",
      " Taylor :  268\n"
     ]
    }
   ],
   "source": [
    "# count many occurences for each of these 4 aritsts\n",
    "print(\"The number of songs for each artist : \")\n",
    "print(\" Drake : \", drake['artist'].count())\n",
    "print(\" Eminem : \", eminem['artist'].count())\n",
    "print(\" Kanye : \", kanye['artist'].count())\n",
    "print(\" Taylor : \", taylor['artist'].count())\n",
    "\n"
   ]
  },
  {
   "cell_type": "code",
   "execution_count": null,
   "metadata": {},
   "outputs": [],
   "source": []
  },
  {
   "cell_type": "code",
   "execution_count": null,
   "metadata": {},
   "outputs": [],
   "source": []
  },
  {
   "cell_type": "code",
   "execution_count": null,
   "metadata": {},
   "outputs": [],
   "source": []
  },
  {
   "cell_type": "code",
   "execution_count": 37,
   "metadata": {},
   "outputs": [
    {
     "name": "stdout",
     "output_type": "stream",
     "text": [
      "The columns of the dataset are:  Index(['title', 'tag', 'artist', 'year', 'views', 'features', 'lyrics', 'id',\n",
      "       'language'],\n",
      "      dtype='object')\n",
      "The shape of the dataset is:  (189840, 9)\n"
     ]
    }
   ],
   "source": [
    "print(\"The columns of the dataset are: \", df.columns)\n",
    "\n",
    "print(\"The shape of the dataset is: \", df.shape)"
   ]
  },
  {
   "cell_type": "code",
   "execution_count": 48,
   "metadata": {},
   "outputs": [
    {
     "name": "stdout",
     "output_type": "stream",
     "text": [
      "Sample Lyrics before cleaning : \n",
      "\n",
      " \n",
      "[Chorus: Opera Steve & Cam'ron]\n",
      "Killa Cam, Killa Cam, Cam\n",
      "Killa Cam, Killa Cam\n",
      "Killa Cam, Cam\n",
      "Killa Cam, Killa Cam, Cam\n",
      "Killa Killa Killa Cam\n",
      "Killa Cam, Cam, Killa (Killa!)\n",
      "Killa Cam, Killa Cam, Cam (Bases loaded)\n",
      "Killa Cam, Killa Cam (Uh-huh)\n",
      "Killa Cam, Cam (Santana on second, Jim on third)\n",
      "Killa Cam, Killa Cam, Cam (I'm at bat)\n",
      "Killa Killa Killa Cam\n",
      "Killa Cam, Cam, Killa (I'm 'bout to hit this shit out the world)\n",
      "Killa Cam (Ugh, Heatmakerz), Killa Cam, Cam\n",
      "Killa Cam, Killa Cam\n",
      "Killa Cam, Cam (Hahahaha)\n",
      "Killa Cam, Killa Cam, Cam\n",
      "Killa Killa Killa Cam\n",
      "Killa Cam, Cam, Killa (We  make this shit clap)\n",
      "Killa Cam, Killa Cam, Cam\n",
      "Killa Cam, Killa Cam\n",
      "Killa Cam, Cam\n",
      "Killa Cam, Killa Cam, Cam\n",
      "Killa Killa Killa Cam (Killa! Killa!)\n",
      "Killa Cam, Cam, Killa\n",
      "[Verse 1]\n",
      "With the goons I spar, stay in tune with ma (What up?)\n",
      "She like, \"Damn, this the realest since 'Kumbaya'\"\n",
      "Bomaye, Killa Cam, my Lord (My Lord)\n",
      "Still the man with the pan, scrilla, fam, on board\n",
      "Now bitches, they want to neuter me, niggas, they want to tutor me\n",
      "The hooligan in Houlihan's, maneuvering's nothing new to me\n",
      "Doggy, I'm from the land of grind, pan-pan: gram or dime?\n",
      "Not toes or MC when I say \"hammer time\"\n",
      "Beef: I hammer mine, when I get my hands on nines\n",
      "If I had on 'Bama line, Corduroys, Cam'll shine\n",
      "Canary burgundy: I call it \"Lemon Red\" (Red)\n",
      "Yellow diamonds in my ear, call 'em \"Lemonheads\"\n",
      "Lemonhead, end up dead, ice like Winnipeg\n",
      "Gemstone, Flintstones, you could say I'm friends with Fred\n",
      "You unhappy, scrappy? (What's going on, Scrappy?)\n",
      "I got Pataki at me\n",
      "Bitches say I'm \"Tacky Daddy,\" Range look like Laffy Taffy\n",
      "\n",
      "[Chorus]\n",
      "Killa Cam\n",
      "Killa Cam Cam (sing)\n",
      "Killa Cam Killa Cam\n",
      "Killa Cam Cam (uhh, it's me, clap)\n",
      "Killa Cam\n",
      "Killa Cam Cam\n",
      "Killa Killa Killa Cam (sing)\n",
      "Killa Cam Cam Killa (uhh, it's me, clap)\n",
      "Killa Cam\n",
      "Killa Cam Cam (sing)\n",
      "Killa Cam Killa Cam\n",
      "Killa Cam Cam (clap, it's me)\n",
      "Killa Cam\n",
      "Killa Cam Cam\n",
      "Killa Killa Killa Cam (clap)\n",
      "(Harlem, I know y'all know about this)\n",
      "Killa Cam Cam Killa (Killa!)\n",
      "[Verse 2]\n",
      "Yo, I'm from where Nicky Barnes got rich as fuck\n",
      "Rich and A hit the kitchens then were pitchin' up\n",
      "Rob Base, Mase, Doug E Fresh switched it up\n",
      "I do both, who am I to fuck tradition up? (Killa!)\n",
      "So I parked in a tow-away zone\n",
      "Chrome...I don't care\n",
      "That car a throwaway, homes (Killa!)\n",
      "Welcome to Harlem, where you welcome to problems\n",
      "Off of furlough, fellow felons get pardons\n",
      "Them niggas knew we bang\n",
      "Stood out like Pootie Tang\n",
      "Soon as the stoolie sings\n",
      "That when the toolie sing!\n",
      "Bang! Bang!\n",
      "Came from that movie ring\n",
      "Snap, crack jewelry bling\n",
      "Flapjack, ooh he bring\n",
      "Clack-clack, \"ooh he ring!\"\n",
      "Bad rap, cuties cling\n",
      "Ass cap, put them in the river\n",
      "I'm the sushi king\n",
      "And I'ma keep ya fresh\n",
      "Let the fish eat ya flesh\n",
      "Yes sir, please confess\n",
      "Just say he's the best (Killa!)\n",
      "[Chorus]\n",
      "Killa Cam (sing)\n",
      "Killa Cam Cam (clap)\n",
      "Killa Cam Killa Cam (yes)\n",
      "Killa Cam Cam (it's me, sing)\n",
      "Killa Cam\n",
      "Killa Cam Cam (sing)\n",
      "Killa Killa Killa Cam\n",
      "Killa Cam Cam Killa  (clap, yes sir, uhh)\n",
      "Killa Cam\n",
      "Killa Cam Cam (sing, clap)\n",
      "Killa Cam Killa Cam\n",
      "Killa Cam Cam (it's me)\n",
      "Killa Cam (sing, clap)\n",
      "Killa Cam Cam\n",
      "Killa Killa Killa Cam\n",
      "(Let me end this shit, listen)\n",
      "Killa Cam Cam Killa\n",
      "\n",
      "[Verse 3]\n",
      "(Killa!) Yo\n",
      "How dope is this?\n",
      "Teach you how to rope a chick\n",
      "What you want: coke or piff?\n",
      "Got it all, smoke or sniff? (everything)\n",
      "And you know my drift\n",
      "Used to figures, dough and shit (millions)\n",
      "You a rooster nigga, just a roaster, bitch\n",
      "And I roast ya bitch\n",
      "That's how it usually ends\n",
      "Tell her and her groupie friends\n",
      "Go get their coochie cleansed\n",
      "We the moody Gucci, Louis and Pucci men\n",
      "Escada, Prada\n",
      "The chopper it got the Uzi lens\n",
      "Bird's-eye view\n",
      "The birds I knew flip birds\n",
      "Bird gangs, it was birds I flew\n",
      "And word I blew off herb I grew\n",
      "I would serve on stoops\n",
      "Now swerve in coupes\n",
      "It's me, sing! Killa, uhh\n",
      "\n",
      "[Chorus]\n",
      "Killa Cam\n",
      "Killa Cam Cam\n",
      "Killa Cam Killa Cam\n",
      "Killa Cam Cam\n",
      "Killa Cam\n",
      "Killa Cam Cam\n",
      "Killa Killa Killa Cam\n",
      "Killa Cam Cam Killa\n",
      "Killa Cam\n",
      "Killa Cam Cam\n",
      "Killa Cam Killa Cam\n",
      "Killa Cam Cam\n",
      "Killa Cam\n",
      "Killa Cam Cam\n",
      "Killa Killa Killa Cam\n",
      "Killa Cam Cam Killa\n"
     ]
    }
   ],
   "source": [
    "# get the column lyrics \n",
    "lyrics = df['lyrics'].tolist()\n",
    "\n",
    "print(\"Sample Lyrics before cleaning : \\n\\n \")\n",
    "print(lyrics[0])\n"
   ]
  },
  {
   "cell_type": "code",
   "execution_count": 43,
   "metadata": {},
   "outputs": [],
   "source": [
    "# loop through each lyrics. and remove everything inside the [] :\n",
    "# remove the [] and the content inside it\n",
    "# also add space befpre every \\n\n",
    "\n",
    "def clean_lyrics_string(one_lyric_string):\n",
    "    global x\n",
    "    x+=1\n",
    "    try:\n",
    "        one_lyric_string_cleaned = re.sub(r'\\[.*?\\]', '', one_lyric_string)\n",
    "        one_lyric_string_cleaned = one_lyric_string_cleaned.replace('\\n', ' \\n')\n",
    "        # remove the \\n at the end of the string and at the start of the string\n",
    "        one_lyric_string_cleaned = one_lyric_string_cleaned.strip()\n",
    "\n",
    "        return one_lyric_string_cleaned\n",
    "    except:\n",
    "        print(\"I AM HERE \")\n",
    "        print(type(one_lyric_string))\n",
    "        print(one_lyric_string)\n",
    "        print(x)\n",
    "        print(\"----------------------------\")"
   ]
  },
  {
   "cell_type": "code",
   "execution_count": 40,
   "metadata": {},
   "outputs": [],
   "source": [
    "global x\n",
    "x=0 "
   ]
  },
  {
   "cell_type": "code",
   "execution_count": 44,
   "metadata": {},
   "outputs": [],
   "source": [
    "# clean every lyrics string in df using the function clean_lyrics_string() and save it in a new column named lyrics_cleaned\n",
    "df['lyrics_cleaned'] = df['lyrics'].apply(clean_lyrics_string)"
   ]
  },
  {
   "cell_type": "code",
   "execution_count": 45,
   "metadata": {},
   "outputs": [
    {
     "data": {
      "text/html": [
       "<div>\n",
       "<style scoped>\n",
       "    .dataframe tbody tr th:only-of-type {\n",
       "        vertical-align: middle;\n",
       "    }\n",
       "\n",
       "    .dataframe tbody tr th {\n",
       "        vertical-align: top;\n",
       "    }\n",
       "\n",
       "    .dataframe thead th {\n",
       "        text-align: right;\n",
       "    }\n",
       "</style>\n",
       "<table border=\"1\" class=\"dataframe\">\n",
       "  <thead>\n",
       "    <tr style=\"text-align: right;\">\n",
       "      <th></th>\n",
       "      <th>title</th>\n",
       "      <th>tag</th>\n",
       "      <th>artist</th>\n",
       "      <th>year</th>\n",
       "      <th>views</th>\n",
       "      <th>features</th>\n",
       "      <th>lyrics</th>\n",
       "      <th>id</th>\n",
       "      <th>language</th>\n",
       "      <th>lyrics_cleaned</th>\n",
       "    </tr>\n",
       "  </thead>\n",
       "  <tbody>\n",
       "    <tr>\n",
       "      <th>0</th>\n",
       "      <td>Killa Cam</td>\n",
       "      <td>rap</td>\n",
       "      <td>Cam'ron</td>\n",
       "      <td>2004</td>\n",
       "      <td>173166</td>\n",
       "      <td>{\"Cam\\\\'ron\",\"Opera Steve\"}</td>\n",
       "      <td>[Chorus: Opera Steve &amp; Cam'ron]\\nKilla Cam, Ki...</td>\n",
       "      <td>1</td>\n",
       "      <td>en</td>\n",
       "      <td>Killa Cam, Killa Cam, Cam \\nKilla Cam, Killa C...</td>\n",
       "    </tr>\n",
       "  </tbody>\n",
       "</table>\n",
       "</div>"
      ],
      "text/plain": [
       "       title  tag   artist  year   views                     features  \\\n",
       "0  Killa Cam  rap  Cam'ron  2004  173166  {\"Cam\\\\'ron\",\"Opera Steve\"}   \n",
       "\n",
       "                                              lyrics  id language  \\\n",
       "0  [Chorus: Opera Steve & Cam'ron]\\nKilla Cam, Ki...   1       en   \n",
       "\n",
       "                                      lyrics_cleaned  \n",
       "0  Killa Cam, Killa Cam, Cam \\nKilla Cam, Killa C...  "
      ]
     },
     "execution_count": 45,
     "metadata": {},
     "output_type": "execute_result"
    }
   ],
   "source": [
    "df.head(1)"
   ]
  },
  {
   "cell_type": "code",
   "execution_count": 47,
   "metadata": {},
   "outputs": [
    {
     "name": "stdout",
     "output_type": "stream",
     "text": [
      "Sample Lyrics after cleaning : \n",
      "\n",
      " \n",
      "Killa Cam, Killa Cam, Cam \n",
      "Killa Cam, Killa Cam \n",
      "Killa Cam, Cam \n",
      "Killa Cam, Killa Cam, Cam \n",
      "Killa Killa Killa Cam \n",
      "Killa Cam, Cam, Killa (Killa!) \n",
      "Killa Cam, Killa Cam, Cam (Bases loaded) \n",
      "Killa Cam, Killa Cam (Uh-huh) \n",
      "Killa Cam, Cam (Santana on second, Jim on third) \n",
      "Killa Cam, Killa Cam, Cam (I'm at bat) \n",
      "Killa Killa Killa Cam \n",
      "Killa Cam, Cam, Killa (I'm 'bout to hit this shit out the world) \n",
      "Killa Cam (Ugh, Heatmakerz), Killa Cam, Cam \n",
      "Killa Cam, Killa Cam \n",
      "Killa Cam, Cam (Hahahaha) \n",
      "Killa Cam, Killa Cam, Cam \n",
      "Killa Killa Killa Cam \n",
      "Killa Cam, Cam, Killa (We  make this shit clap) \n",
      "Killa Cam, Killa Cam, Cam \n",
      "Killa Cam, Killa Cam \n",
      "Killa Cam, Cam \n",
      "Killa Cam, Killa Cam, Cam \n",
      "Killa Killa Killa Cam (Killa! Killa!) \n",
      "Killa Cam, Cam, Killa \n",
      " \n",
      "With the goons I spar, stay in tune with ma (What up?) \n",
      "She like, \"Damn, this the realest since 'Kumbaya'\" \n",
      "Bomaye, Killa Cam, my Lord (My Lord) \n",
      "Still the man with the pan, scrilla, fam, on board \n",
      "Now bitches, they want to neuter me, niggas, they want to tutor me \n",
      "The hooligan in Houlihan's, maneuvering's nothing new to me \n",
      "Doggy, I'm from the land of grind, pan-pan: gram or dime? \n",
      "Not toes or MC when I say \"hammer time\" \n",
      "Beef: I hammer mine, when I get my hands on nines \n",
      "If I had on 'Bama line, Corduroys, Cam'll shine \n",
      "Canary burgundy: I call it \"Lemon Red\" (Red) \n",
      "Yellow diamonds in my ear, call 'em \"Lemonheads\" \n",
      "Lemonhead, end up dead, ice like Winnipeg \n",
      "Gemstone, Flintstones, you could say I'm friends with Fred \n",
      "You unhappy, scrappy? (What's going on, Scrappy?) \n",
      "I got Pataki at me \n",
      "Bitches say I'm \"Tacky Daddy,\" Range look like Laffy Taffy \n",
      " \n",
      " \n",
      "Killa Cam \n",
      "Killa Cam Cam (sing) \n",
      "Killa Cam Killa Cam \n",
      "Killa Cam Cam (uhh, it's me, clap) \n",
      "Killa Cam \n",
      "Killa Cam Cam \n",
      "Killa Killa Killa Cam (sing) \n",
      "Killa Cam Cam Killa (uhh, it's me, clap) \n",
      "Killa Cam \n",
      "Killa Cam Cam (sing) \n",
      "Killa Cam Killa Cam \n",
      "Killa Cam Cam (clap, it's me) \n",
      "Killa Cam \n",
      "Killa Cam Cam \n",
      "Killa Killa Killa Cam (clap) \n",
      "(Harlem, I know y'all know about this) \n",
      "Killa Cam Cam Killa (Killa!) \n",
      " \n",
      "Yo, I'm from where Nicky Barnes got rich as fuck \n",
      "Rich and A hit the kitchens then were pitchin' up \n",
      "Rob Base, Mase, Doug E Fresh switched it up \n",
      "I do both, who am I to fuck tradition up? (Killa!) \n",
      "So I parked in a tow-away zone \n",
      "Chrome...I don't care \n",
      "That car a throwaway, homes (Killa!) \n",
      "Welcome to Harlem, where you welcome to problems \n",
      "Off of furlough, fellow felons get pardons \n",
      "Them niggas knew we bang \n",
      "Stood out like Pootie Tang \n",
      "Soon as the stoolie sings \n",
      "That when the toolie sing! \n",
      "Bang! Bang! \n",
      "Came from that movie ring \n",
      "Snap, crack jewelry bling \n",
      "Flapjack, ooh he bring \n",
      "Clack-clack, \"ooh he ring!\" \n",
      "Bad rap, cuties cling \n",
      "Ass cap, put them in the river \n",
      "I'm the sushi king \n",
      "And I'ma keep ya fresh \n",
      "Let the fish eat ya flesh \n",
      "Yes sir, please confess \n",
      "Just say he's the best (Killa!) \n",
      " \n",
      "Killa Cam (sing) \n",
      "Killa Cam Cam (clap) \n",
      "Killa Cam Killa Cam (yes) \n",
      "Killa Cam Cam (it's me, sing) \n",
      "Killa Cam \n",
      "Killa Cam Cam (sing) \n",
      "Killa Killa Killa Cam \n",
      "Killa Cam Cam Killa  (clap, yes sir, uhh) \n",
      "Killa Cam \n",
      "Killa Cam Cam (sing, clap) \n",
      "Killa Cam Killa Cam \n",
      "Killa Cam Cam (it's me) \n",
      "Killa Cam (sing, clap) \n",
      "Killa Cam Cam \n",
      "Killa Killa Killa Cam \n",
      "(Let me end this shit, listen) \n",
      "Killa Cam Cam Killa \n",
      " \n",
      " \n",
      "(Killa!) Yo \n",
      "How dope is this? \n",
      "Teach you how to rope a chick \n",
      "What you want: coke or piff? \n",
      "Got it all, smoke or sniff? (everything) \n",
      "And you know my drift \n",
      "Used to figures, dough and shit (millions) \n",
      "You a rooster nigga, just a roaster, bitch \n",
      "And I roast ya bitch \n",
      "That's how it usually ends \n",
      "Tell her and her groupie friends \n",
      "Go get their coochie cleansed \n",
      "We the moody Gucci, Louis and Pucci men \n",
      "Escada, Prada \n",
      "The chopper it got the Uzi lens \n",
      "Bird's-eye view \n",
      "The birds I knew flip birds \n",
      "Bird gangs, it was birds I flew \n",
      "And word I blew off herb I grew \n",
      "I would serve on stoops \n",
      "Now swerve in coupes \n",
      "It's me, sing! Killa, uhh \n",
      " \n",
      " \n",
      "Killa Cam \n",
      "Killa Cam Cam \n",
      "Killa Cam Killa Cam \n",
      "Killa Cam Cam \n",
      "Killa Cam \n",
      "Killa Cam Cam \n",
      "Killa Killa Killa Cam \n",
      "Killa Cam Cam Killa \n",
      "Killa Cam \n",
      "Killa Cam Cam \n",
      "Killa Cam Killa Cam \n",
      "Killa Cam Cam \n",
      "Killa Cam \n",
      "Killa Cam Cam \n",
      "Killa Killa Killa Cam \n",
      "Killa Cam Cam Killa\n"
     ]
    }
   ],
   "source": [
    "lyrics_cleaned = df['lyrics_cleaned'].tolist()\n",
    "\n",
    "print(\"Sample Lyrics after cleaning : \\n\\n \")\n",
    "print(lyrics_cleaned[0])"
   ]
  },
  {
   "cell_type": "code",
   "execution_count": null,
   "metadata": {},
   "outputs": [],
   "source": []
  }
 ],
 "metadata": {
  "kernelspec": {
   "display_name": "base",
   "language": "python",
   "name": "python3"
  },
  "language_info": {
   "codemirror_mode": {
    "name": "ipython",
    "version": 3
   },
   "file_extension": ".py",
   "mimetype": "text/x-python",
   "name": "python",
   "nbconvert_exporter": "python",
   "pygments_lexer": "ipython3",
   "version": "3.9.7"
  },
  "orig_nbformat": 4
 },
 "nbformat": 4,
 "nbformat_minor": 2
}
