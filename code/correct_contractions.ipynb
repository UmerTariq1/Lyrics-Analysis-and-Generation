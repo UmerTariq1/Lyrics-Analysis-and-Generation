{
 "cells": [
  {
   "cell_type": "code",
   "execution_count": 1,
   "metadata": {},
   "outputs": [],
   "source": [
    "CONTRACTIONS_LIST_FILE = \"contractions_list.txt\"\n"
   ]
  },
  {
   "cell_type": "code",
   "execution_count": 38,
   "metadata": {},
   "outputs": [],
   "source": [
    "# read contractions file and its each line look like this:\n",
    "# \"ain't\": \"am not / are not / is not / has not / have not\",\n",
    "\n",
    "# read the file and create a dictionary\n",
    "contractions_dict = {}\n",
    "with open(CONTRACTIONS_LIST_FILE, 'r', encoding='utf-8') as file:\n",
    "    for line in file:\n",
    "        line = line.strip()\n",
    "        if line:\n",
    "            parts = line.split(':')\n",
    "            if len(parts) == 2:\n",
    "                contraction = parts[0].strip()\n",
    "                expansion = parts[1].strip()\n",
    "                # remove the comma from the end of expansioon \n",
    "                expansion = expansion[:-1]\n",
    "                # remove the double quotes from the start and end \n",
    "                expansion = expansion[1:-1]\n",
    "                contraction = contraction[1:-1]\n",
    "                \n",
    "                expansions_list = expansion.split('/')\n",
    "                #remove the extra spaces from the start and end of each expansion\n",
    "                expansions_list = [expansion.strip() for expansion in expansions_list]\n",
    "                \n",
    "                contractions_dict[contraction] = expansions_list[0]\n"
   ]
  },
  {
   "cell_type": "code",
   "execution_count": 40,
   "metadata": {},
   "outputs": [],
   "source": [
    "# save this dictionary to a file\n",
    "import json\n",
    "with open('contractions_dict.json', 'w') as file:\n",
    "    json.dump(contractions_dict, file, indent=4)\n"
   ]
  },
  {
   "cell_type": "code",
   "execution_count": null,
   "metadata": {},
   "outputs": [],
   "source": [
    "# read from contractions dict\n",
    "with open('contractions_dict.json', 'r') as file:\n",
    "    contractions_dict = json.load(file)"
   ]
  },
  {
   "cell_type": "code",
   "execution_count": null,
   "metadata": {},
   "outputs": [],
   "source": []
  }
 ],
 "metadata": {
  "kernelspec": {
   "display_name": "base",
   "language": "python",
   "name": "python3"
  },
  "language_info": {
   "codemirror_mode": {
    "name": "ipython",
    "version": 3
   },
   "file_extension": ".py",
   "mimetype": "text/x-python",
   "name": "python",
   "nbconvert_exporter": "python",
   "pygments_lexer": "ipython3",
   "version": "3.9.7"
  },
  "orig_nbformat": 4
 },
 "nbformat": 4,
 "nbformat_minor": 2
}
