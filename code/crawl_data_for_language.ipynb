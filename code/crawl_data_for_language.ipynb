{
 "cells": [
  {
   "cell_type": "markdown",
   "id": "6cbde2c0",
   "metadata": {},
   "source": [
    "#### Define functions"
   ]
  },
  {
   "cell_type": "code",
   "execution_count": 1,
   "id": "caa7d4a6",
   "metadata": {},
   "outputs": [],
   "source": [
    "import pandas as pd\n",
    "\n",
    "from langid.langid import LanguageIdentifier, model\n",
    "\n",
    "lang_identifier = LanguageIdentifier.from_modelstring(model, norm_probs=True)\n",
    "\n",
    "langtyp = ['en','zh','tr','hi','ur']\n",
    "\n",
    "def lang_detect(msg):\n",
    "    try:\n",
    "        ln = lang_identifier.classify(msg)[0]\n",
    "    except:\n",
    "        ln = \"other\"\n",
    "    return ln"
   ]
  },
  {
   "cell_type": "markdown",
   "id": "8e365840",
   "metadata": {},
   "source": [
    "#### Read data and create chunks"
   ]
  },
  {
   "cell_type": "code",
   "execution_count": 42,
   "id": "0ee3f7c2",
   "metadata": {},
   "outputs": [
    {
     "name": "stdout",
     "output_type": "stream",
     "text": [
      "Wall time: 32.5 ms\n"
     ]
    }
   ],
   "source": [
    "%%time\n",
    "X = pd.read_csv(filename,nrows=100000)"
   ]
  },
  {
   "cell_type": "code",
   "execution_count": 2,
   "id": "30c2140d",
   "metadata": {},
   "outputs": [],
   "source": [
    "filename=\"archive/ds2.csv\""
   ]
  },
  {
   "cell_type": "code",
   "execution_count": 38,
   "id": "d590ad7a",
   "metadata": {},
   "outputs": [],
   "source": [
    "filename=\"chunks/chunk_13.csv\""
   ]
  },
  {
   "cell_type": "code",
   "execution_count": 3,
   "id": "4a22b971",
   "metadata": {},
   "outputs": [],
   "source": [
    "header = ['title', 'tag', 'artist', 'year', 'views', 'features', 'lyrics', 'id', 'language']"
   ]
  },
  {
   "cell_type": "code",
   "execution_count": 24,
   "id": "0f4454bc",
   "metadata": {},
   "outputs": [],
   "source": [
    "#One hour\n",
    "n_chunks = 100000"
   ]
  },
  {
   "cell_type": "code",
   "execution_count": 13,
   "id": "a9e7a3bd",
   "metadata": {},
   "outputs": [],
   "source": [
    "chunk_size = 300000"
   ]
  },
  {
   "cell_type": "code",
   "execution_count": 15,
   "id": "fc8b5cb8",
   "metadata": {},
   "outputs": [
    {
     "name": "stdout",
     "output_type": "stream",
     "text": [
      "per_chunk_time =  59.0\n"
     ]
    }
   ],
   "source": [
    "print(\"per_chunk_time = \",round((58.7/5000)*chunk_size*(1/60),0))"
   ]
  },
  {
   "cell_type": "markdown",
   "id": "62c810de",
   "metadata": {},
   "source": [
    "#### Read languages for each row"
   ]
  },
  {
   "cell_type": "code",
   "execution_count": 37,
   "id": "2847c273",
   "metadata": {},
   "outputs": [
    {
     "name": "stdout",
     "output_type": "stream",
     "text": [
      "1\n",
      "2\n",
      "3\n",
      "4\n",
      "5\n",
      "6\n",
      "7\n",
      "8\n",
      "9\n",
      "10\n",
      "11\n",
      "12\n",
      "13\n",
      "14\n",
      "15\n",
      "16\n",
      "17\n",
      "18\n",
      "19\n",
      "20\n",
      "21\n",
      "22\n",
      "23\n",
      "24\n",
      "25\n",
      "26\n",
      "27\n",
      "28\n",
      "29\n",
      "30\n",
      "31\n",
      "32\n",
      "33\n",
      "34\n",
      "35\n",
      "36\n",
      "37\n",
      "38\n",
      "39\n",
      "40\n",
      "41\n",
      "42\n",
      "43\n",
      "44\n",
      "45\n",
      "46\n",
      "47\n",
      "48\n",
      "49\n",
      "50\n",
      "51\n",
      "52\n",
      "53\n",
      "54\n",
      "55\n",
      "56\n",
      "57\n",
      "58\n",
      "59\n",
      "60\n",
      "Wall time: 15h 9min 15s\n"
     ]
    }
   ],
   "source": [
    "%%time\n",
    "chunksize = 100000\n",
    "n = 0\n",
    "done = \"[\"\n",
    "list_done = []\n",
    "for chunk in pd.read_csv(filename, chunksize=chunksize):\n",
    "    \n",
    "    n = n + 1\n",
    "    \n",
    "#     print(len(chunk))\n",
    "    if n in list_done:\n",
    "        continue\n",
    "        \n",
    "    _indices = []\n",
    "    _lang = []\n",
    "    for index, row in chunk.iterrows():\n",
    "        \n",
    "        try:\n",
    "            ln = lang_identifier.classify(row.lyrics)[0]\n",
    "            _lang.append(ln)\n",
    "            \n",
    "        except:\n",
    "            _lang.append(\"other\")\n",
    "\n",
    "        if ln == 'en':\n",
    "            if row.views >= 10000:\n",
    "                _indices.append(index)\n",
    "\n",
    "        elif ln in langtyp:\n",
    "            _indices.append(index)\n",
    "\n",
    "        else:\n",
    "            continue\n",
    "            \n",
    "    chunk[\"language\"] = _lang\n",
    "    chunk.loc[_indices].to_csv(\"chunks/chunk_\" + str(n) + \".csv\",index=False)\n",
    "        \n",
    "    done = done + str(n) + \",\"\n",
    "    \n",
    "    print(n)"
   ]
  }
 ],
 "metadata": {
  "kernelspec": {
   "display_name": "Python 3",
   "language": "python",
   "name": "python3"
  },
  "language_info": {
   "codemirror_mode": {
    "name": "ipython",
    "version": 3
   },
   "file_extension": ".py",
   "mimetype": "text/x-python",
   "name": "python",
   "nbconvert_exporter": "python",
   "pygments_lexer": "ipython3",
   "version": "3.8.8"
  }
 },
 "nbformat": 4,
 "nbformat_minor": 5
}
