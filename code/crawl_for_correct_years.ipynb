{
 "cells": [
  {
   "cell_type": "markdown",
   "id": "70f836a0",
   "metadata": {},
   "source": [
    "### Define functions to crawl data "
   ]
  },
  {
   "cell_type": "code",
   "execution_count": 1,
   "id": "4cf1b94a",
   "metadata": {},
   "outputs": [],
   "source": [
    "import pandas as pd\n",
    "from collections import Counter\n",
    "import requests\n",
    "import awena #To scrape wikidata\n",
    "import numpy as np"
   ]
  },
  {
   "cell_type": "code",
   "execution_count": 2,
   "id": "56ff694f",
   "metadata": {},
   "outputs": [],
   "source": [
    "# Access token for Genius API (replace with your own)\n",
    "access_token = \"\""
   ]
  },
  {
   "cell_type": "code",
   "execution_count": 63,
   "id": "b5d01e52",
   "metadata": {},
   "outputs": [],
   "source": [
    "# Function to fetch song data from Genius API\n",
    "def fetch_song_data(song_id, access_token):\n",
    "    # Set the API endpoint URL\n",
    "    url = f\"https://api.genius.com/songs/{song_id}\"\n",
    "\n",
    "    # Set the authorization header with the access token\n",
    "    headers = {\n",
    "        \"Authorization\": f\"Bearer {access_token}\"\n",
    "    }\n",
    "\n",
    "    # Send a GET request to the API\n",
    "    response = requests.get(url, headers=headers)\n",
    "\n",
    "    # Check if the request was successful\n",
    "    if response.status_code == 200:\n",
    "        # Retrieve the JSON data from the response\n",
    "        data = response.json()\n",
    "        try:\n",
    "            return data[\"response\"][\"song\"][\"release_date_for_display\"][-4:]\n",
    "        except:\n",
    "            return -2\n",
    "    \n",
    "    else:\n",
    "        return -100"
   ]
  },
  {
   "cell_type": "markdown",
   "id": "9134f65a",
   "metadata": {},
   "source": [
    "### Create list yearx and parse for correct years"
   ]
  },
  {
   "cell_type": "code",
   "execution_count": 7,
   "id": "e4aa2ff2",
   "metadata": {},
   "outputs": [],
   "source": [
    "X = pd.read_csv(\"data.csv\")"
   ]
  },
  {
   "cell_type": "code",
   "execution_count": 114,
   "id": "deeb2bc7",
   "metadata": {},
   "outputs": [],
   "source": [
    "yearx = pd.DataFrame()\n",
    "yearx['year'] = np.ones(189866)*-1"
   ]
  },
  {
   "cell_type": "code",
   "execution_count": 159,
   "id": "b2db1763",
   "metadata": {},
   "outputs": [],
   "source": [
    "# yearx.to_csv('yearx.csv',index=False)"
   ]
  },
  {
   "cell_type": "code",
   "execution_count": 166,
   "id": "9a6ea667",
   "metadata": {},
   "outputs": [],
   "source": [
    "yearx = pd.read_csv('yearx.csv')"
   ]
  },
  {
   "cell_type": "code",
   "execution_count": 188,
   "id": "17407f6f",
   "metadata": {
    "scrolled": false
   },
   "outputs": [
    {
     "name": "stdout",
     "output_type": "stream",
     "text": [
      "0 0\n",
      "1 0\n",
      "1 0\n",
      "2 0\n",
      "2 0\n",
      "3 0\n",
      "3 0\n",
      "4 0\n",
      "4 0\n",
      "5 0\n",
      "6 0\n",
      "6 0\n",
      "7 0\n",
      "7 0\n",
      "8 0\n",
      "8 0\n",
      "9 0\n",
      "9 0\n",
      "10 0\n",
      "11 0\n",
      "11 0\n",
      "12 0\n",
      "12 0\n",
      "13 0\n",
      "13 0\n",
      "14 0\n",
      "14 0\n",
      "15 0\n",
      "16 0\n",
      "16 0\n",
      "17 0\n",
      "17 0\n",
      "18 0\n",
      "18 0\n",
      "19 0\n",
      "19 0\n",
      "20 0\n",
      "21 0\n",
      "21 0\n",
      "22 0\n",
      "22 0\n",
      "23 0\n",
      "23 0\n",
      "24 0\n",
      "24 0\n",
      "25 0\n",
      "26 0\n",
      "26 0\n",
      "27 0\n",
      "27 0\n",
      "28 0\n",
      "28 0\n",
      "29 0\n",
      "29 0\n",
      "30 0\n",
      "31 0\n",
      "31 0\n",
      "32 0\n",
      "32 0\n",
      "33 0\n",
      "33 0\n",
      "34 0\n",
      "34 0\n",
      "35 0\n",
      "36 0\n",
      "36 0\n",
      "37 0\n",
      "37 0\n",
      "38 0\n",
      "38 0\n",
      "39 0\n",
      "40 0\n",
      "40 0\n",
      "41 0\n",
      "41 0\n",
      "42 0\n",
      "42 0\n",
      "43 0\n",
      "43 0\n",
      "44 0\n",
      "45 0\n",
      "45 0\n",
      "46 0\n",
      "46 0\n",
      "47 0\n",
      "47 0\n",
      "48 0\n",
      "48 0\n",
      "49 0\n",
      "50 0\n",
      "50 0\n",
      "51 0\n",
      "51 0\n",
      "52 0\n",
      "52 0\n",
      "53 0\n",
      "53 0\n",
      "54 0\n",
      "55 0\n",
      "55 0\n",
      "56 0\n",
      "56 0\n",
      "57 0\n",
      "57 0\n",
      "58 0\n",
      "58 0\n",
      "59 0\n",
      "60 0\n",
      "60 0\n",
      "61 0\n",
      "61 0\n",
      "62 0\n",
      "62 0\n",
      "63 0\n",
      "63 0\n",
      "64 0\n",
      "65 0\n",
      "65 0\n",
      "66 0\n",
      "66 0\n",
      "67 0\n",
      "67 0\n",
      "68 0\n",
      "68 0\n",
      "69 0\n",
      "70 0\n",
      "70 0\n",
      "71 0\n",
      "71 0\n",
      "72 0\n",
      "72 0\n",
      "73 0\n",
      "73 0\n",
      "74 0\n",
      "75 0\n",
      "75 0\n",
      "76 0\n",
      "76 0\n",
      "77 0\n",
      "77 0\n",
      "78 0\n",
      "78 0\n",
      "79 0\n",
      "80 0\n",
      "80 0\n",
      "81 0\n",
      "81 0\n",
      "82 0\n",
      "82 0\n",
      "83 0\n",
      "83 0\n",
      "84 0\n",
      "85 0\n",
      "85 0\n",
      "86 0\n",
      "86 0\n",
      "87 0\n",
      "87 0\n",
      "88 0\n",
      "88 0\n",
      "89 0\n",
      "90 0\n",
      "90 0\n",
      "91 0\n",
      "91 0\n",
      "92 0\n",
      "92 0\n",
      "93 0\n",
      "93 0\n",
      "94 0\n",
      "95 0\n",
      "95 0\n",
      "96 0\n",
      "96 0\n",
      "97 0\n",
      "97 0\n",
      "98 0\n",
      "98 0\n",
      "99 0\n",
      "100 0\n",
      "Wall time: 16h 1min 33s\n"
     ]
    }
   ],
   "source": [
    "%%time\n",
    "for i in range(100000,189866):   \n",
    "    if i%500 == 0:\n",
    "        print(round((i-100000)/898.66),0)\n",
    "    yearx['year'][i] = int(fetch_song_data(IDs[i], access_token))"
   ]
  },
  {
   "cell_type": "code",
   "execution_count": 189,
   "id": "a935b1cb",
   "metadata": {},
   "outputs": [],
   "source": [
    "yearx.to_csv('yearx3.csv',index=False)"
   ]
  },
  {
   "cell_type": "code",
   "execution_count": 190,
   "id": "61acfb3f",
   "metadata": {},
   "outputs": [],
   "source": [
    "DATA = X.copy()"
   ]
  },
  {
   "cell_type": "code",
   "execution_count": 194,
   "id": "3a86e1dc",
   "metadata": {},
   "outputs": [],
   "source": [
    "DATA['yearx'] = yearx.values.astype('int')"
   ]
  },
  {
   "cell_type": "markdown",
   "id": "a30b480d",
   "metadata": {},
   "source": [
    "### Remove square brackets and store new data"
   ]
  },
  {
   "cell_type": "code",
   "execution_count": 206,
   "id": "d1dae9d7",
   "metadata": {},
   "outputs": [],
   "source": [
    "pattern = r\"(?m)^\\[.*?\\]$\"\n",
    "DATA[\"lyrics_clean\"] = DATA[\"lyrics\"].str.replace(pattern, \"\", regex=True)\n",
    "pattern = r\"\\n|\\n\\n\"\n",
    "DATA[\"lyrics_clean\"] = DATA[\"lyrics_clean\"].str.replace(pattern, \" \", regex=True)"
   ]
  },
  {
   "cell_type": "code",
   "execution_count": 214,
   "id": "267231ee",
   "metadata": {},
   "outputs": [],
   "source": [
    "DATA.to_csv(\"data_clean.csv\",index=False)"
   ]
  }
 ],
 "metadata": {
  "kernelspec": {
   "display_name": "Python 3",
   "language": "python",
   "name": "python3"
  },
  "language_info": {
   "codemirror_mode": {
    "name": "ipython",
    "version": 3
   },
   "file_extension": ".py",
   "mimetype": "text/x-python",
   "name": "python",
   "nbconvert_exporter": "python",
   "pygments_lexer": "ipython3",
   "version": "3.8.8"
  }
 },
 "nbformat": 4,
 "nbformat_minor": 5
}
