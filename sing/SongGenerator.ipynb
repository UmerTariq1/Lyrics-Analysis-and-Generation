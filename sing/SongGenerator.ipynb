{
 "cells": [
  {
   "cell_type": "markdown",
   "id": "9edf1d55",
   "metadata": {},
   "source": [
    "### Initialise"
   ]
  },
  {
   "cell_type": "code",
   "execution_count": 7,
   "id": "24ce541c",
   "metadata": {
    "collapsed": true
   },
   "outputs": [
    {
     "name": "stdout",
     "output_type": "stream",
     "text": [
      "Requirement already satisfied: gtts in c:\\users\\samvit\\anaconda3\\lib\\site-packages (2.3.2)\n",
      "Requirement already satisfied: requests<3,>=2.27 in c:\\users\\samvit\\anaconda3\\lib\\site-packages (from gtts) (2.31.0)\n",
      "Requirement already satisfied: click<8.2,>=7.1 in c:\\users\\samvit\\anaconda3\\lib\\site-packages (from gtts) (7.1.2)\n",
      "Requirement already satisfied: idna<4,>=2.5 in c:\\users\\samvit\\anaconda3\\lib\\site-packages (from requests<3,>=2.27->gtts) (2.10)\n",
      "Requirement already satisfied: certifi>=2017.4.17 in c:\\users\\samvit\\anaconda3\\lib\\site-packages (from requests<3,>=2.27->gtts) (2023.7.22)\n",
      "Requirement already satisfied: charset-normalizer<4,>=2 in c:\\users\\samvit\\anaconda3\\lib\\site-packages (from requests<3,>=2.27->gtts) (3.2.0)\n",
      "Requirement already satisfied: urllib3<3,>=1.21.1 in c:\\users\\samvit\\anaconda3\\lib\\site-packages (from requests<3,>=2.27->gtts) (1.26.16)\n",
      "Requirement already satisfied: pydub in c:\\users\\samvit\\anaconda3\\lib\\site-packages (0.25.1)\n",
      "Requirement already satisfied: librosa in c:\\users\\samvit\\anaconda3\\lib\\site-packages (0.9.1)\n",
      "Requirement already satisfied: pooch>=1.0 in c:\\users\\samvit\\anaconda3\\lib\\site-packages (from librosa) (1.6.0)\n",
      "Requirement already satisfied: numpy>=1.17.0 in c:\\users\\samvit\\anaconda3\\lib\\site-packages (from librosa) (1.22.4)\n",
      "Requirement already satisfied: scikit-learn>=0.19.1 in c:\\users\\samvit\\anaconda3\\lib\\site-packages (from librosa) (0.24.1)\n",
      "Requirement already satisfied: resampy>=0.2.2 in c:\\users\\samvit\\anaconda3\\lib\\site-packages (from librosa) (0.4.2)\n",
      "Requirement already satisfied: decorator>=4.0.10 in c:\\users\\samvit\\anaconda3\\lib\\site-packages (from librosa) (5.0.6)\n",
      "Requirement already satisfied: numba>=0.45.1 in c:\\users\\samvit\\anaconda3\\lib\\site-packages (from librosa) (0.53.1)\n",
      "Requirement already satisfied: soundfile>=0.10.2 in c:\\users\\samvit\\anaconda3\\lib\\site-packages (from librosa) (0.12.1)\n",
      "Requirement already satisfied: joblib>=0.14 in c:\\users\\samvit\\anaconda3\\lib\\site-packages (from librosa) (1.0.1)\n",
      "Requirement already satisfied: scipy>=1.2.0 in c:\\users\\samvit\\anaconda3\\lib\\site-packages (from librosa) (1.6.2)\n",
      "Requirement already satisfied: audioread>=2.1.5 in c:\\users\\samvit\\anaconda3\\lib\\site-packages (from librosa) (3.0.0)\n",
      "Requirement already satisfied: packaging>=20.0 in c:\\users\\samvit\\anaconda3\\lib\\site-packages (from librosa) (20.9)\n",
      "Requirement already satisfied: llvmlite<0.37,>=0.36.0rc1 in c:\\users\\samvit\\anaconda3\\lib\\site-packages (from numba>=0.45.1->librosa) (0.36.0)\n",
      "Requirement already satisfied: setuptools in c:\\users\\samvit\\anaconda3\\lib\\site-packages (from numba>=0.45.1->librosa) (52.0.0.post20210125)\n",
      "Requirement already satisfied: pyparsing>=2.0.2 in c:\\users\\samvit\\anaconda3\\lib\\site-packages (from packaging>=20.0->librosa) (2.4.7)\n",
      "Requirement already satisfied: appdirs>=1.3.0 in c:\\users\\samvit\\anaconda3\\lib\\site-packages (from pooch>=1.0->librosa) (1.4.4)\n",
      "Requirement already satisfied: requests>=2.19.0 in c:\\users\\samvit\\anaconda3\\lib\\site-packages (from pooch>=1.0->librosa) (2.31.0)\n",
      "Requirement already satisfied: urllib3<3,>=1.21.1 in c:\\users\\samvit\\anaconda3\\lib\\site-packages (from requests>=2.19.0->pooch>=1.0->librosa) (1.26.16)\n",
      "Requirement already satisfied: charset-normalizer<4,>=2 in c:\\users\\samvit\\anaconda3\\lib\\site-packages (from requests>=2.19.0->pooch>=1.0->librosa) (3.2.0)\n",
      "Requirement already satisfied: certifi>=2017.4.17 in c:\\users\\samvit\\anaconda3\\lib\\site-packages (from requests>=2.19.0->pooch>=1.0->librosa) (2023.7.22)\n",
      "Requirement already satisfied: idna<4,>=2.5 in c:\\users\\samvit\\anaconda3\\lib\\site-packages (from requests>=2.19.0->pooch>=1.0->librosa) (2.10)\n",
      "Requirement already satisfied: threadpoolctl>=2.0.0 in c:\\users\\samvit\\anaconda3\\lib\\site-packages (from scikit-learn>=0.19.1->librosa) (2.1.0)\n",
      "Requirement already satisfied: cffi>=1.0 in c:\\users\\samvit\\anaconda3\\lib\\site-packages (from soundfile>=0.10.2->librosa) (1.14.5)\n",
      "Requirement already satisfied: pycparser in c:\\users\\samvit\\anaconda3\\lib\\site-packages (from cffi>=1.0->soundfile>=0.10.2->librosa) (2.20)\n",
      "Requirement already satisfied: numpy in c:\\users\\samvit\\anaconda3\\lib\\site-packages (1.22.4)\n",
      "Requirement already satisfied: scipy in c:\\users\\samvit\\anaconda3\\lib\\site-packages (1.6.2)\n",
      "Requirement already satisfied: numpy<1.23.0,>=1.16.5 in c:\\users\\samvit\\anaconda3\\lib\\site-packages (from scipy) (1.22.4)\n",
      "Requirement already satisfied: matplotlib in c:\\users\\samvit\\anaconda3\\lib\\site-packages (3.3.4)\n",
      "Requirement already satisfied: kiwisolver>=1.0.1 in c:\\users\\samvit\\anaconda3\\lib\\site-packages (from matplotlib) (1.3.1)\n",
      "Requirement already satisfied: python-dateutil>=2.1 in c:\\users\\samvit\\anaconda3\\lib\\site-packages (from matplotlib) (2.8.2)\n",
      "Requirement already satisfied: pyparsing!=2.0.4,!=2.1.2,!=2.1.6,>=2.0.3 in c:\\users\\samvit\\anaconda3\\lib\\site-packages (from matplotlib) (2.4.7)\n",
      "Requirement already satisfied: cycler>=0.10 in c:\\users\\samvit\\anaconda3\\lib\\site-packages (from matplotlib) (0.10.0)\n",
      "Requirement already satisfied: pillow>=6.2.0 in c:\\users\\samvit\\anaconda3\\lib\\site-packages (from matplotlib) (8.2.0)\n",
      "Requirement already satisfied: numpy>=1.15 in c:\\users\\samvit\\anaconda3\\lib\\site-packages (from matplotlib) (1.22.4)\n",
      "Requirement already satisfied: six in c:\\users\\samvit\\anaconda3\\lib\\site-packages (from cycler>=0.10->matplotlib) (1.15.0)\n",
      "Requirement already satisfied: soundfile in c:\\users\\samvit\\anaconda3\\lib\\site-packages (0.12.1)\n",
      "Requirement already satisfied: cffi>=1.0 in c:\\users\\samvit\\anaconda3\\lib\\site-packages (from soundfile) (1.14.5)\n",
      "Requirement already satisfied: pycparser in c:\\users\\samvit\\anaconda3\\lib\\site-packages (from cffi>=1.0->soundfile) (2.20)\n",
      "Requirement already satisfied: psola in c:\\users\\samvit\\anaconda3\\lib\\site-packages (0.0.1)\n",
      "Requirement already satisfied: tqdm in c:\\users\\samvit\\anaconda3\\lib\\site-packages (from psola) (4.66.1)\n",
      "Requirement already satisfied: numpy in c:\\users\\samvit\\anaconda3\\lib\\site-packages (from psola) (1.22.4)\n",
      "Requirement already satisfied: pypar in c:\\users\\samvit\\anaconda3\\lib\\site-packages (from psola) (0.0.4)\n",
      "Requirement already satisfied: praat-parselmouth in c:\\users\\samvit\\anaconda3\\lib\\site-packages (from psola) (0.4.3)\n",
      "Requirement already satisfied: soundfile in c:\\users\\samvit\\anaconda3\\lib\\site-packages (from psola) (0.12.1)\n",
      "Requirement already satisfied: cffi>=1.0 in c:\\users\\samvit\\anaconda3\\lib\\site-packages (from soundfile->psola) (1.14.5)\n",
      "Requirement already satisfied: pycparser in c:\\users\\samvit\\anaconda3\\lib\\site-packages (from cffi>=1.0->soundfile->psola) (2.20)\n",
      "Requirement already satisfied: colorama in c:\\users\\samvit\\anaconda3\\lib\\site-packages (from tqdm->psola) (0.4.4)\n",
      "Requirement already satisfied: langchain in c:\\users\\samvit\\anaconda3\\lib\\site-packages (0.0.297)\n",
      "Requirement already satisfied: SQLAlchemy<3,>=1.4 in c:\\users\\samvit\\anaconda3\\lib\\site-packages (from langchain) (1.4.7)\n",
      "Requirement already satisfied: async-timeout<5.0.0,>=4.0.0 in c:\\users\\samvit\\anaconda3\\lib\\site-packages (from langchain) (4.0.3)\n",
      "Requirement already satisfied: requests<3,>=2 in c:\\users\\samvit\\anaconda3\\lib\\site-packages (from langchain) (2.31.0)\n",
      "Requirement already satisfied: langsmith<0.1.0,>=0.0.38 in c:\\users\\samvit\\anaconda3\\lib\\site-packages (from langchain) (0.0.39)\n",
      "Requirement already satisfied: numexpr<3.0.0,>=2.8.4 in c:\\users\\samvit\\anaconda3\\lib\\site-packages (from langchain) (2.8.6)\n",
      "Requirement already satisfied: dataclasses-json<0.7,>=0.5.7 in c:\\users\\samvit\\anaconda3\\lib\\site-packages (from langchain) (0.6.0)\n",
      "Requirement already satisfied: numpy<2,>=1 in c:\\users\\samvit\\anaconda3\\lib\\site-packages (from langchain) (1.22.4)\n",
      "Requirement already satisfied: pydantic<3,>=1 in c:\\users\\samvit\\anaconda3\\lib\\site-packages (from langchain) (2.3.0)\n",
      "Requirement already satisfied: tenacity<9.0.0,>=8.1.0 in c:\\users\\samvit\\anaconda3\\lib\\site-packages (from langchain) (8.2.3)\n",
      "Requirement already satisfied: PyYAML>=5.3 in c:\\users\\samvit\\anaconda3\\lib\\site-packages (from langchain) (5.4.1)\n",
      "Requirement already satisfied: aiohttp<4.0.0,>=3.8.3 in c:\\users\\samvit\\anaconda3\\lib\\site-packages (from langchain) (3.8.5)\n",
      "Requirement already satisfied: attrs>=17.3.0 in c:\\users\\samvit\\anaconda3\\lib\\site-packages (from aiohttp<4.0.0,>=3.8.3->langchain) (20.3.0)\n",
      "Requirement already satisfied: frozenlist>=1.1.1 in c:\\users\\samvit\\anaconda3\\lib\\site-packages (from aiohttp<4.0.0,>=3.8.3->langchain) (1.4.0)\n",
      "Requirement already satisfied: charset-normalizer<4.0,>=2.0 in c:\\users\\samvit\\anaconda3\\lib\\site-packages (from aiohttp<4.0.0,>=3.8.3->langchain) (3.2.0)\n",
      "Requirement already satisfied: yarl<2.0,>=1.0 in c:\\users\\samvit\\anaconda3\\lib\\site-packages (from aiohttp<4.0.0,>=3.8.3->langchain) (1.9.2)\n",
      "Requirement already satisfied: aiosignal>=1.1.2 in c:\\users\\samvit\\anaconda3\\lib\\site-packages (from aiohttp<4.0.0,>=3.8.3->langchain) (1.3.1)\n",
      "Requirement already satisfied: multidict<7.0,>=4.5 in c:\\users\\samvit\\anaconda3\\lib\\site-packages (from aiohttp<4.0.0,>=3.8.3->langchain) (6.0.4)\n",
      "Requirement already satisfied: typing-inspect<1,>=0.4.0 in c:\\users\\samvit\\anaconda3\\lib\\site-packages (from dataclasses-json<0.7,>=0.5.7->langchain) (0.9.0)\n",
      "Requirement already satisfied: marshmallow<4.0.0,>=3.18.0 in c:\\users\\samvit\\anaconda3\\lib\\site-packages (from dataclasses-json<0.7,>=0.5.7->langchain) (3.20.1)\n",
      "Requirement already satisfied: packaging>=17.0 in c:\\users\\samvit\\anaconda3\\lib\\site-packages (from marshmallow<4.0.0,>=3.18.0->dataclasses-json<0.7,>=0.5.7->langchain) (20.9)\n",
      "Requirement already satisfied: pyparsing>=2.0.2 in c:\\users\\samvit\\anaconda3\\lib\\site-packages (from packaging>=17.0->marshmallow<4.0.0,>=3.18.0->dataclasses-json<0.7,>=0.5.7->langchain) (2.4.7)\n",
      "Requirement already satisfied: typing-extensions>=4.6.1 in c:\\users\\samvit\\anaconda3\\lib\\site-packages (from pydantic<3,>=1->langchain) (4.7.1)\n",
      "Requirement already satisfied: annotated-types>=0.4.0 in c:\\users\\samvit\\anaconda3\\lib\\site-packages (from pydantic<3,>=1->langchain) (0.5.0)\n",
      "Requirement already satisfied: pydantic-core==2.6.3 in c:\\users\\samvit\\anaconda3\\lib\\site-packages (from pydantic<3,>=1->langchain) (2.6.3)\n",
      "Requirement already satisfied: urllib3<3,>=1.21.1 in c:\\users\\samvit\\anaconda3\\lib\\site-packages (from requests<3,>=2->langchain) (1.26.16)\n",
      "Requirement already satisfied: idna<4,>=2.5 in c:\\users\\samvit\\anaconda3\\lib\\site-packages (from requests<3,>=2->langchain) (2.10)\n",
      "Requirement already satisfied: certifi>=2017.4.17 in c:\\users\\samvit\\anaconda3\\lib\\site-packages (from requests<3,>=2->langchain) (2023.7.22)\n",
      "Requirement already satisfied: greenlet!=0.4.17 in c:\\users\\samvit\\anaconda3\\lib\\site-packages (from SQLAlchemy<3,>=1.4->langchain) (1.0.0)\n",
      "Requirement already satisfied: mypy-extensions>=0.3.0 in c:\\users\\samvit\\anaconda3\\lib\\site-packages (from typing-inspect<1,>=0.4.0->dataclasses-json<0.7,>=0.5.7->langchain) (0.4.3)\n"
     ]
    }
   ],
   "source": [
    "## Install libraries if unavailable\n",
    "\n",
    "!pip install gtts\n",
    "!pip install pydub\n",
    "!pip install librosa\n",
    "!pip install numpy\n",
    "!pip install scipy\n",
    "!pip install matplotlib\n",
    "!pip install soundfile\n",
    "!pip install psola\n",
    "!pip install langchain"
   ]
  },
  {
   "cell_type": "code",
   "execution_count": 8,
   "id": "1afa115c",
   "metadata": {},
   "outputs": [],
   "source": [
    "import sing"
   ]
  },
  {
   "cell_type": "code",
   "execution_count": 9,
   "id": "e0fae89f",
   "metadata": {},
   "outputs": [],
   "source": [
    "# Create the chords and drum patterns\n",
    "\n",
    "sing.initialise_music()"
   ]
  },
  {
   "cell_type": "markdown",
   "id": "0e668bd4",
   "metadata": {},
   "source": [
    "### **Note: You can change the drums and synth if required.**\n",
    "\n",
    "This can be done by replacing the files in *store/drums* or *store/synth*.\n",
    "\n",
    "For example, for a different kick, replace *store/drums/kick_default.mp3* with your sample."
   ]
  },
  {
   "cell_type": "markdown",
   "id": "d33127c9",
   "metadata": {},
   "source": [
    "### Input"
   ]
  },
  {
   "cell_type": "code",
   "execution_count": 14,
   "id": "5b21bb85",
   "metadata": {},
   "outputs": [],
   "source": [
    "#Change the lyrics and prompt to what is desired\n",
    "#Linkin park numb is used as an example\n",
    "lyrics = \"\"\"I've become so\n",
    "numb, I can't feel you\n",
    "there, I've become so \n",
    "tired, so much more\n",
    "aware I'm becoming\n",
    "this, all I want to\n",
    "do is be more like\n",
    "me and be less like\n",
    "you\"\"\"\n",
    "\n",
    "prompt = \"sad and angry\"\n",
    "\n",
    "path = \"final_song.mp3\""
   ]
  },
  {
   "cell_type": "markdown",
   "id": "5b857ee6",
   "metadata": {},
   "source": [
    "**Break up the lyrics wisely! Do not add extra blank lines**\n",
    "\n",
    "If the lyrics are too large, an error will get thrown because there are not enough notes to attach to the speech"
   ]
  },
  {
   "cell_type": "markdown",
   "id": "ac7ad89b",
   "metadata": {},
   "source": [
    "### Output"
   ]
  },
  {
   "cell_type": "code",
   "execution_count": 17,
   "id": "dceeb3c0",
   "metadata": {},
   "outputs": [
    {
     "name": "stderr",
     "output_type": "stream",
     "text": [
      "C:\\Users\\Samvit\\anaconda3\\lib\\site-packages\\librosa\\util\\decorators.py:88: UserWarning: PySoundFile failed. Trying audioread instead.\n",
      "  return f(*args, **kwargs)\n"
     ]
    }
   ],
   "source": [
    "MELODY = sing.generate_melody_from_prompt(desc_user=prompt)\n",
    "\n",
    "try:\n",
    "    sing.create_music(lyrics,MELODY,sing.CHORDS,sing.BEAT,output_path=path)\n",
    "\n",
    "except:\n",
    "    #In case of error with GPT output use back up melody!\n",
    "    print(\"using backup melody\")\n",
    "\n",
    "    melody_bkup = [['C3', 'C3', 'C3', 'C3', 'C3', 'C3', 'C3', 'C3'],\n",
    "                   ['G3', 'G3', 'G3', 'G3', 'G3', 'G3', 'G3', 'G3'],\n",
    "                   ['A3', 'A3', 'A3', 'A3', 'A3', 'A3', 'A3', 'A3'],\n",
    "                   ['F3', 'F3', 'F3', 'F3', 'F3', 'F3', 'F3', 'F3']]\n",
    "\n",
    "    sing.create_music(lyrics,melody_bkup,sing.CHORDS,sing.BEAT,output_path=path)"
   ]
  }
 ],
 "metadata": {
  "kernelspec": {
   "display_name": "Python 3",
   "language": "python",
   "name": "python3"
  },
  "language_info": {
   "codemirror_mode": {
    "name": "ipython",
    "version": 3
   },
   "file_extension": ".py",
   "mimetype": "text/x-python",
   "name": "python",
   "nbconvert_exporter": "python",
   "pygments_lexer": "ipython3",
   "version": "3.8.8"
  }
 },
 "nbformat": 4,
 "nbformat_minor": 5
}
